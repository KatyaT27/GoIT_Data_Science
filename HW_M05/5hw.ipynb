{
 "cells": [
  {
   "cell_type": "code",
   "execution_count": 1,
   "id": "8bff2291-d70a-415d-aab1-aa5fc850b152",
   "metadata": {},
   "outputs": [],
   "source": [
    "import numpy as np\n",
    "import pandas as pd\n",
    "import pickle\n",
    "\n",
    "from os import listdir\n",
    "from os.path import join, isdir\n",
    "from sklearn import model_selection, svm\n",
    "from sklearn.metrics import mean_absolute_error, mean_squared_error, accuracy_score, classification_report\n",
    "from sklearn.ensemble import RandomForestClassifier"
   ]
  },
  {
   "cell_type": "code",
   "execution_count": 2,
   "id": "b6deb44f-6ee4-4648-8555-e2c10bb0a4f3",
   "metadata": {},
   "outputs": [],
   "source": [
    "datapath = \"data\""
   ]
  },
  {
   "cell_type": "code",
   "execution_count": 3,
   "id": "e51228b4-cdea-4257-a588-15062ae314a4",
   "metadata": {},
   "outputs": [
    {
     "data": {
      "text/plain": [
       "['running', 'idle', 'walking', 'stairs']"
      ]
     },
     "execution_count": 3,
     "metadata": {},
     "output_type": "execute_result"
    }
   ],
   "source": [
    "activities = [d for d in listdir(datapath) if isdir(join(datapath, d))]\n",
    "activities"
   ]
  },
  {
   "cell_type": "code",
   "execution_count": 4,
   "id": "80844a78-d2f5-4db4-9238-8f6a8843f039",
   "metadata": {},
   "outputs": [
    {
     "name": "stdout",
     "output_type": "stream",
     "text": [
      "running: 3408\n",
      "idle: 1039\n",
      "walking: 1850\n",
      "stairs: 165\n"
     ]
    }
   ],
   "source": [
    "for act in activities:\n",
    "    path = join(datapath, act)\n",
    "    frames = listdir(path)\n",
    "    print(f\"{act}: {len(frames)}\")"
   ]
  },
  {
   "cell_type": "code",
   "execution_count": 5,
   "id": "40bb0885-7a9b-4d9a-8fbb-bd0d8887c909",
   "metadata": {},
   "outputs": [
    {
     "data": {
      "text/html": [
       "<div>\n",
       "<style scoped>\n",
       "    .dataframe tbody tr th:only-of-type {\n",
       "        vertical-align: middle;\n",
       "    }\n",
       "\n",
       "    .dataframe tbody tr th {\n",
       "        vertical-align: top;\n",
       "    }\n",
       "\n",
       "    .dataframe thead th {\n",
       "        text-align: right;\n",
       "    }\n",
       "</style>\n",
       "<table border=\"1\" class=\"dataframe\">\n",
       "  <thead>\n",
       "    <tr style=\"text-align: right;\">\n",
       "      <th></th>\n",
       "      <th>accelerometer_X</th>\n",
       "      <th>accelerometer_Y</th>\n",
       "      <th>accelerometer_Z</th>\n",
       "    </tr>\n",
       "  </thead>\n",
       "  <tbody>\n",
       "    <tr>\n",
       "      <th>0</th>\n",
       "      <td>5.923255</td>\n",
       "      <td>-18.195932</td>\n",
       "      <td>10.486604</td>\n",
       "    </tr>\n",
       "    <tr>\n",
       "      <th>1</th>\n",
       "      <td>2.595315</td>\n",
       "      <td>-7.762002</td>\n",
       "      <td>-10.606314</td>\n",
       "    </tr>\n",
       "    <tr>\n",
       "      <th>2</th>\n",
       "      <td>-6.287173</td>\n",
       "      <td>-20.609290</td>\n",
       "      <td>-38.086960</td>\n",
       "    </tr>\n",
       "    <tr>\n",
       "      <th>3</th>\n",
       "      <td>1.498770</td>\n",
       "      <td>-14.719552</td>\n",
       "      <td>-5.975927</td>\n",
       "    </tr>\n",
       "    <tr>\n",
       "      <th>4</th>\n",
       "      <td>4.936844</td>\n",
       "      <td>-19.177555</td>\n",
       "      <td>17.492037</td>\n",
       "    </tr>\n",
       "  </tbody>\n",
       "</table>\n",
       "</div>"
      ],
      "text/plain": [
       "   accelerometer_X  accelerometer_Y  accelerometer_Z\n",
       "0         5.923255       -18.195932        10.486604\n",
       "1         2.595315        -7.762002       -10.606314\n",
       "2        -6.287173       -20.609290       -38.086960\n",
       "3         1.498770       -14.719552        -5.975927\n",
       "4         4.936844       -19.177555        17.492037"
      ]
     },
     "execution_count": 5,
     "metadata": {},
     "output_type": "execute_result"
    }
   ],
   "source": [
    "frms = listdir(join(datapath, \"stairs\"))\n",
    "frame = pd.read_csv(join(join(datapath, \"stairs\"), frms[2]))\n",
    "frame.head(5)"
   ]
  },
  {
   "cell_type": "markdown",
   "id": "22787037-fa4e-4378-bce2-d1e8e62c40fd",
   "metadata": {},
   "source": [
    "#### Підготовка даних"
   ]
  },
  {
   "cell_type": "code",
   "execution_count": 6,
   "id": "0b4343e8-99c4-4bab-a53c-834353037a9c",
   "metadata": {},
   "outputs": [],
   "source": [
    "def get_stat_features(frame):\n",
    "    features = np.array([])\n",
    "    features = np.concatenate((features, frame.skew(axis=0).values), axis=0)\n",
    "    features = np.concatenate((features, frame.kurt(axis=0).values), axis=0)\n",
    "    features = np.concatenate((features, frame.max(axis=0).values), axis=0)\n",
    "    features = np.concatenate((features, frame.min(axis=0).values), axis=0)\n",
    "    features = np.concatenate((features, frame.mean(axis=0).values), axis=0)\n",
    "    features = np.concatenate((features, frame.std(axis=0).values), axis=0)\n",
    "    features = np.concatenate((features, frame.var(axis=0).values), axis=0)\n",
    "    features = np.concatenate((features, frame.median(axis=0).values), axis=0)\n",
    "    features = np.concatenate((features, frame.idxmax(axis=0).values), axis=0)\n",
    "    features = np.concatenate((features, frame.idxmin(axis=0).values), axis=0)\n",
    "    correlations = frame.corr()\n",
    "    corr = np.array([correlations['accelerometer_X']['accelerometer_Y'], correlations['accelerometer_X']['accelerometer_Z'], correlations['accelerometer_Y']['accelerometer_Z']])\n",
    "    features = np.concatenate((features, corr), axis=0)\n",
    "\n",
    "    frame['mean_X'] = frame.mean(axis=0)['accelerometer_X']\n",
    "    frame['mean_Y'] = frame.mean(axis=0)['accelerometer_Y']\n",
    "    frame['mean_Z'] = frame.mean(axis=0)['accelerometer_Z']\n",
    "    \n",
    "    mae_X = mean_absolute_error(frame['accelerometer_X'], frame['mean_X'])\n",
    "    mae_Y = mean_absolute_error(frame['accelerometer_Y'], frame['mean_Y'])\n",
    "    mae_Z = mean_absolute_error(frame['accelerometer_Z'], frame['mean_Z'])\n",
    "    \n",
    "    rmse_x = np.sqrt(mean_squared_error(frame['accelerometer_X'], frame['mean_X']))\n",
    "    rmse_y = np.sqrt(mean_squared_error(frame['accelerometer_Y'], frame['mean_Y']))\n",
    "    rmse_z = np.sqrt(mean_squared_error(frame['accelerometer_Z'], frame['mean_Z']))\n",
    "\n",
    "    metrics = np.array([mae_X, mae_Y, mae_Z, rmse_x, rmse_y, rmse_z])\n",
    "    features = np.concatenate((features, metrics), axis=0)\n",
    "\n",
    "    return features"
   ]
  },
  {
   "cell_type": "code",
   "execution_count": 7,
   "id": "a492c5c7-7084-4775-9c8e-28c6d96844c4",
   "metadata": {},
   "outputs": [
    {
     "data": {
      "text/plain": [
       "39"
      ]
     },
     "execution_count": 7,
     "metadata": {},
     "output_type": "execute_result"
    }
   ],
   "source": [
    "len(get_stat_features(frame))"
   ]
  },
  {
   "cell_type": "markdown",
   "id": "4098ce08-36c3-4f99-b45c-263fb3e8f955",
   "metadata": {},
   "source": [
    "#### Визначення кількості характеристик"
   ]
  },
  {
   "cell_type": "code",
   "execution_count": 8,
   "id": "5b0da642-9c92-4c2b-aab5-9d4fe7f83a71",
   "metadata": {},
   "outputs": [],
   "source": [
    "new_frame = frame"
   ]
  },
  {
   "cell_type": "code",
   "execution_count": 9,
   "id": "19cdcfef-b090-499c-baee-53578bab45e2",
   "metadata": {},
   "outputs": [
    {
     "data": {
      "text/html": [
       "<div>\n",
       "<style scoped>\n",
       "    .dataframe tbody tr th:only-of-type {\n",
       "        vertical-align: middle;\n",
       "    }\n",
       "\n",
       "    .dataframe tbody tr th {\n",
       "        vertical-align: top;\n",
       "    }\n",
       "\n",
       "    .dataframe thead th {\n",
       "        text-align: right;\n",
       "    }\n",
       "</style>\n",
       "<table border=\"1\" class=\"dataframe\">\n",
       "  <thead>\n",
       "    <tr style=\"text-align: right;\">\n",
       "      <th></th>\n",
       "      <th>accelerometer_X</th>\n",
       "      <th>accelerometer_Y</th>\n",
       "      <th>accelerometer_Z</th>\n",
       "      <th>mean_X</th>\n",
       "      <th>mean_Y</th>\n",
       "      <th>mean_Z</th>\n",
       "    </tr>\n",
       "  </thead>\n",
       "  <tbody>\n",
       "    <tr>\n",
       "      <th>0</th>\n",
       "      <td>5.923255</td>\n",
       "      <td>-18.195932</td>\n",
       "      <td>10.486604</td>\n",
       "      <td>1.269406</td>\n",
       "      <td>-9.126697</td>\n",
       "      <td>-2.280078</td>\n",
       "    </tr>\n",
       "    <tr>\n",
       "      <th>1</th>\n",
       "      <td>2.595315</td>\n",
       "      <td>-7.762002</td>\n",
       "      <td>-10.606314</td>\n",
       "      <td>1.269406</td>\n",
       "      <td>-9.126697</td>\n",
       "      <td>-2.280078</td>\n",
       "    </tr>\n",
       "    <tr>\n",
       "      <th>2</th>\n",
       "      <td>-6.287173</td>\n",
       "      <td>-20.609290</td>\n",
       "      <td>-38.086960</td>\n",
       "      <td>1.269406</td>\n",
       "      <td>-9.126697</td>\n",
       "      <td>-2.280078</td>\n",
       "    </tr>\n",
       "  </tbody>\n",
       "</table>\n",
       "</div>"
      ],
      "text/plain": [
       "   accelerometer_X  accelerometer_Y  accelerometer_Z    mean_X    mean_Y  \\\n",
       "0         5.923255       -18.195932        10.486604  1.269406 -9.126697   \n",
       "1         2.595315        -7.762002       -10.606314  1.269406 -9.126697   \n",
       "2        -6.287173       -20.609290       -38.086960  1.269406 -9.126697   \n",
       "\n",
       "     mean_Z  \n",
       "0 -2.280078  \n",
       "1 -2.280078  \n",
       "2 -2.280078  "
      ]
     },
     "execution_count": 9,
     "metadata": {},
     "output_type": "execute_result"
    }
   ],
   "source": [
    "new_frame['mean_X'] = frame.mean(axis=0)['accelerometer_X']\n",
    "new_frame['mean_Y'] = frame.mean(axis=0)['accelerometer_Y']\n",
    "new_frame['mean_Z'] = frame.mean(axis=0)['accelerometer_Z']\n",
    "\n",
    "new_frame.head(3)"
   ]
  },
  {
   "cell_type": "code",
   "execution_count": 10,
   "id": "0dbb6bb7-67a3-4b61-ab68-869cf1a65252",
   "metadata": {},
   "outputs": [
    {
     "data": {
      "text/plain": [
       "2.251411582222223"
      ]
     },
     "execution_count": 10,
     "metadata": {},
     "output_type": "execute_result"
    }
   ],
   "source": [
    "mean_absolute_error(frame['accelerometer_X'], new_frame['mean_X'])"
   ]
  },
  {
   "cell_type": "code",
   "execution_count": 11,
   "id": "f4e13cba-edb9-41ae-854c-b8dc0d08c7b6",
   "metadata": {},
   "outputs": [
    {
     "data": {
      "text/plain": [
       "2.904224753121146"
      ]
     },
     "execution_count": 11,
     "metadata": {},
     "output_type": "execute_result"
    }
   ],
   "source": [
    "np.sqrt(mean_squared_error(frame['accelerometer_X'], new_frame['mean_X']))"
   ]
  },
  {
   "cell_type": "markdown",
   "id": "51cb3787-3d56-45c5-8773-6cf5826e54b8",
   "metadata": {},
   "source": [
    "#### Підготовка класу"
   ]
  },
  {
   "cell_type": "code",
   "execution_count": 12,
   "id": "ba0f6828-4f5d-4941-8883-ab1696a81d81",
   "metadata": {},
   "outputs": [],
   "source": [
    "def class_data_stat_prepare(class_name, class_number):\n",
    "    path = join(datapath, class_name)\n",
    "    X = []\n",
    "    for item in listdir(path):\n",
    "        frame = pd.read_csv(join(path, item))\n",
    "        features = get_stat_features(frame)\n",
    "        X.append(features)\n",
    "\n",
    "    y = [class_number]*len(X)\n",
    "\n",
    "    X = np.array(X)\n",
    "    y = np.array(y)\n",
    "\n",
    "    return X, y"
   ]
  },
  {
   "cell_type": "markdown",
   "id": "a4ab8f61-19e7-469b-a26b-ebf45bbb1687",
   "metadata": {},
   "source": [
    "#### Створюємо DataSet"
   ]
  },
  {
   "cell_type": "code",
   "execution_count": 13,
   "id": "909ba7d6-f39e-4260-b6a7-ece7a04aa864",
   "metadata": {},
   "outputs": [],
   "source": [
    "def create_dataset(class_prepare):\n",
    "    X_idle, y_idle = class_prepare('idle', 0)\n",
    "    X_walking, y_walking = class_prepare('walking', 1)\n",
    "    X_stairs, y_stairs = class_prepare('stairs', 2)\n",
    "    X_running, y_running = class_prepare('running', 3)\n",
    "\n",
    "    X = np.concatenate((X_idle, X_walking), axis=0)\n",
    "    X = np.concatenate((X, X_stairs), axis=0)\n",
    "    X = np.concatenate((X, X_running), axis=0)\n",
    "\n",
    "    Y = np.concatenate((y_idle, y_walking), axis=0)\n",
    "    Y = np.concatenate((Y, y_stairs), axis=0)\n",
    "    Y = np.concatenate((Y, y_running), axis=0)\n",
    "\n",
    "    return X, Y"
   ]
  },
  {
   "cell_type": "code",
   "execution_count": 14,
   "id": "52e3bec5-8ed9-496a-8514-83e0b4febff1",
   "metadata": {},
   "outputs": [],
   "source": [
    "X, y = create_dataset(class_data_stat_prepare)"
   ]
  },
  {
   "cell_type": "code",
   "execution_count": 15,
   "id": "560e86bd-bc94-4974-b602-b2f58632b4c2",
   "metadata": {},
   "outputs": [],
   "source": [
    "def save_data(prefix, X, y):\n",
    "    with open(f'{prefix}_X.pickle', 'wb') as f:\n",
    "        pickle.dump(X, f)\n",
    "    with open(f'{prefix}_y.pickle', 'wb') as f:\n",
    "        pickle.dump(y, f)"
   ]
  },
  {
   "cell_type": "code",
   "execution_count": 16,
   "id": "0ffe2c92-7e7a-464f-b88e-09917a07ec08",
   "metadata": {},
   "outputs": [],
   "source": [
    "save_data('data', X, y)"
   ]
  },
  {
   "cell_type": "code",
   "execution_count": 17,
   "id": "aa7de869-4f21-48de-ad94-1c24b40a683b",
   "metadata": {},
   "outputs": [],
   "source": [
    "def load_data(prefix):\n",
    "    with open(f'{prefix}_X.pickle', 'rb') as f:\n",
    "        X = pickle.load(f)\n",
    "    with open(f'{prefix}_y.pickle', 'rb') as f:\n",
    "        y = pickle.load(f)\n",
    "    return X, y"
   ]
  },
  {
   "cell_type": "code",
   "execution_count": 18,
   "id": "75d9037e-0512-4f36-b702-68e64b2269e6",
   "metadata": {},
   "outputs": [],
   "source": [
    "X, y = load_data('data')"
   ]
  },
  {
   "cell_type": "code",
   "execution_count": 19,
   "id": "f1689b05-5b52-4b19-ad15-117b2ec0eff5",
   "metadata": {},
   "outputs": [],
   "source": [
    "X_train, X_test, y_train, y_test = model_selection.train_test_split(X, y, train_size=0.3)"
   ]
  },
  {
   "cell_type": "markdown",
   "id": "04714c25-e621-4e41-a2e5-6c669ab9619f",
   "metadata": {},
   "source": [
    "#### порівнння VM Classifier VS RandomForest Classifier"
   ]
  },
  {
   "cell_type": "code",
   "execution_count": 20,
   "id": "ad175610-a3b3-4256-b08d-73ac930742df",
   "metadata": {},
   "outputs": [],
   "source": [
    "cls_ovo = svm.SVC(decision_function_shape='ovo', kernel='rbf', gamma=0.005, probability=True).fit(X_train, y_train)\n",
    "cls_ovr = svm.SVC(decision_function_shape='ovr', kernel='rbf', gamma=0.005, probability=True).fit(X_train, y_train)\n",
    "\n",
    "cls_forest = RandomForestClassifier().fit(X_train, y_train)"
   ]
  },
  {
   "cell_type": "code",
   "execution_count": 21,
   "id": "9cd6b43a-2c16-4305-98b5-2bda7554e7a4",
   "metadata": {},
   "outputs": [],
   "source": [
    "svm_ovo_pred = cls_ovo.predict(X_test)\n",
    "svm_ovr_pred = cls_ovr.predict(X_test)\n",
    "\n",
    "forest_pred = cls_forest.predict(X_test)"
   ]
  },
  {
   "cell_type": "code",
   "execution_count": 22,
   "id": "e2bae038-1d61-435f-a432-15683e6533fd",
   "metadata": {},
   "outputs": [
    {
     "name": "stdout",
     "output_type": "stream",
     "text": [
      "accuracy SVM ovo:  0.898762157382847\n",
      "accuracy SVM ovr:  0.898762157382847\n",
      "accuracy RandomForest:  0.99447391688771\n"
     ]
    }
   ],
   "source": [
    "svm_ovo_accuracy = accuracy_score(y_test, svm_ovo_pred)\n",
    "svm_ovr_accuracy = accuracy_score(y_test, svm_ovr_pred)\n",
    "\n",
    "forest_ovr_accuracy = accuracy_score(y_test, forest_pred)\n",
    "\n",
    "print(\"accuracy SVM ovo: \", svm_ovo_accuracy)\n",
    "print(\"accuracy SVM ovr: \", svm_ovr_accuracy)\n",
    "print(\"accuracy RandomForest: \", forest_ovr_accuracy)"
   ]
  },
  {
   "cell_type": "code",
   "execution_count": 23,
   "id": "1b8a98f7-5f00-4f2d-b3ee-d9428b402bab",
   "metadata": {},
   "outputs": [
    {
     "name": "stdout",
     "output_type": "stream",
     "text": [
      "SVM ovo report: \n",
      "              precision    recall  f1-score   support\n",
      "\n",
      "           0       1.00      0.88      0.93       736\n",
      "           1       0.98      0.76      0.86      1292\n",
      "           2       1.00      0.45      0.62       107\n",
      "           3       0.84      1.00      0.92      2389\n",
      "\n",
      "    accuracy                           0.90      4524\n",
      "   macro avg       0.96      0.77      0.83      4524\n",
      "weighted avg       0.91      0.90      0.90      4524\n",
      "\n"
     ]
    }
   ],
   "source": [
    "svm_ovo_report = classification_report(y_test, svm_ovo_pred)\n",
    "print(\"SVM ovo report: \")\n",
    "print(svm_ovo_report)"
   ]
  },
  {
   "cell_type": "code",
   "execution_count": 24,
   "id": "dbd1d59c-5563-4552-8322-2ef54582b7cf",
   "metadata": {},
   "outputs": [
    {
     "name": "stdout",
     "output_type": "stream",
     "text": [
      "SVM ovr report: \n",
      "              precision    recall  f1-score   support\n",
      "\n",
      "           0       1.00      0.88      0.93       736\n",
      "           1       0.98      0.76      0.86      1292\n",
      "           2       1.00      0.45      0.62       107\n",
      "           3       0.84      1.00      0.92      2389\n",
      "\n",
      "    accuracy                           0.90      4524\n",
      "   macro avg       0.96      0.77      0.83      4524\n",
      "weighted avg       0.91      0.90      0.90      4524\n",
      "\n"
     ]
    }
   ],
   "source": [
    "svm_ovr_report = classification_report(y_test, svm_ovr_pred)\n",
    "print(\"SVM ovr report: \")\n",
    "print(svm_ovr_report)"
   ]
  },
  {
   "cell_type": "code",
   "execution_count": 25,
   "id": "4f48e517-8033-439b-a6f5-8043db932bf0",
   "metadata": {},
   "outputs": [
    {
     "name": "stdout",
     "output_type": "stream",
     "text": [
      "RandomForest report: \n",
      "              precision    recall  f1-score   support\n",
      "\n",
      "           0       1.00      1.00      1.00       736\n",
      "           1       0.98      1.00      0.99      1292\n",
      "           2       0.96      0.80      0.87       107\n",
      "           3       1.00      1.00      1.00      2389\n",
      "\n",
      "    accuracy                           0.99      4524\n",
      "   macro avg       0.98      0.95      0.97      4524\n",
      "weighted avg       0.99      0.99      0.99      4524\n",
      "\n"
     ]
    }
   ],
   "source": [
    "forest_report = classification_report(y_test, forest_pred)\n",
    "print(\"RandomForest report: \")\n",
    "print(forest_report)\n"
   ]
  },
  {
   "cell_type": "code",
   "execution_count": null,
   "id": "6c227606-83ae-4964-91d4-2dcd62b4169c",
   "metadata": {},
   "outputs": [],
   "source": []
  }
 ],
 "metadata": {
  "kernelspec": {
   "display_name": "Python 3 (ipykernel)",
   "language": "python",
   "name": "python3"
  },
  "language_info": {
   "codemirror_mode": {
    "name": "ipython",
    "version": 3
   },
   "file_extension": ".py",
   "mimetype": "text/x-python",
   "name": "python",
   "nbconvert_exporter": "python",
   "pygments_lexer": "ipython3",
   "version": "3.11.5"
  }
 },
 "nbformat": 4,
 "nbformat_minor": 5
}
