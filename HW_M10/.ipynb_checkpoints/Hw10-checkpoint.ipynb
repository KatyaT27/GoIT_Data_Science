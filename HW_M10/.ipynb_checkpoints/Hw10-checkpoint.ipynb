{
 "cells": [
  {
   "cell_type": "markdown",
   "id": "3035ede8-05b9-494e-b440-a99128b8eb64",
   "metadata": {},
   "source": [
    "# Домашнє завдання №10\n",
    "\n",
    "# Частина №1"
   ]
  },
  {
   "cell_type": "code",
   "execution_count": 1,
   "id": "fc7737c2-2912-4439-b46f-81c928702eb5",
   "metadata": {
    "tags": []
   },
   "outputs": [],
   "source": [
    "import numpy as np\n",
    "from tensorflow import keras\n",
    "from keras.datasets import fashion_mnist"
   ]
  },
  {
   "cell_type": "markdown",
   "id": "34091894-fd69-4f36-998b-72c3a96576ca",
   "metadata": {},
   "source": [
    "## Завантаження датасету"
   ]
  },
  {
   "cell_type": "code",
   "execution_count": 2,
   "id": "434b01b7-b447-482e-98e8-720094341518",
   "metadata": {
    "tags": []
   },
   "outputs": [],
   "source": [
    "(train_data, train_labels), (test_data, test_labels) = fashion_mnist.load_data()"
   ]
  },
  {
   "cell_type": "code",
   "execution_count": 3,
   "id": "da9c4160-0724-4b51-87b7-17b6fb898ff7",
   "metadata": {
    "tags": []
   },
   "outputs": [
    {
     "name": "stdout",
     "output_type": "stream",
     "text": [
      "Розмір тренувального датасету: 60000\n",
      "Перший елемент тренувального датасету: [[  0   0   0   0   0   0   0   0   0   0   0   0   0   0   0   0   0   0\n",
      "    0   0   0   0   0   0   0   0   0   0]\n",
      " [  0   0   0   0   0   0   0   0   0   0   0   0   0   0   0   0   0   0\n",
      "    0   0   0   0   0   0   0   0   0   0]\n",
      " [  0   0   0   0   0   0   0   0   0   0   0   0   0   0   0   0   0   0\n",
      "    0   0   0   0   0   0   0   0   0   0]\n",
      " [  0   0   0   0   0   0   0   0   0   0   0   0   1   0   0  13  73   0\n",
      "    0   1   4   0   0   0   0   1   1   0]\n",
      " [  0   0   0   0   0   0   0   0   0   0   0   0   3   0  36 136 127  62\n",
      "   54   0   0   0   1   3   4   0   0   3]\n",
      " [  0   0   0   0   0   0   0   0   0   0   0   0   6   0 102 204 176 134\n",
      "  144 123  23   0   0   0   0  12  10   0]\n",
      " [  0   0   0   0   0   0   0   0   0   0   0   0   0   0 155 236 207 178\n",
      "  107 156 161 109  64  23  77 130  72  15]\n",
      " [  0   0   0   0   0   0   0   0   0   0   0   1   0  69 207 223 218 216\n",
      "  216 163 127 121 122 146 141  88 172  66]\n",
      " [  0   0   0   0   0   0   0   0   0   1   1   1   0 200 232 232 233 229\n",
      "  223 223 215 213 164 127 123 196 229   0]\n",
      " [  0   0   0   0   0   0   0   0   0   0   0   0   0 183 225 216 223 228\n",
      "  235 227 224 222 224 221 223 245 173   0]\n",
      " [  0   0   0   0   0   0   0   0   0   0   0   0   0 193 228 218 213 198\n",
      "  180 212 210 211 213 223 220 243 202   0]\n",
      " [  0   0   0   0   0   0   0   0   0   1   3   0  12 219 220 212 218 192\n",
      "  169 227 208 218 224 212 226 197 209  52]\n",
      " [  0   0   0   0   0   0   0   0   0   0   6   0  99 244 222 220 218 203\n",
      "  198 221 215 213 222 220 245 119 167  56]\n",
      " [  0   0   0   0   0   0   0   0   0   4   0   0  55 236 228 230 228 240\n",
      "  232 213 218 223 234 217 217 209  92   0]\n",
      " [  0   0   1   4   6   7   2   0   0   0   0   0 237 226 217 223 222 219\n",
      "  222 221 216 223 229 215 218 255  77   0]\n",
      " [  0   3   0   0   0   0   0   0   0  62 145 204 228 207 213 221 218 208\n",
      "  211 218 224 223 219 215 224 244 159   0]\n",
      " [  0   0   0   0  18  44  82 107 189 228 220 222 217 226 200 205 211 230\n",
      "  224 234 176 188 250 248 233 238 215   0]\n",
      " [  0  57 187 208 224 221 224 208 204 214 208 209 200 159 245 193 206 223\n",
      "  255 255 221 234 221 211 220 232 246   0]\n",
      " [  3 202 228 224 221 211 211 214 205 205 205 220 240  80 150 255 229 221\n",
      "  188 154 191 210 204 209 222 228 225   0]\n",
      " [ 98 233 198 210 222 229 229 234 249 220 194 215 217 241  65  73 106 117\n",
      "  168 219 221 215 217 223 223 224 229  29]\n",
      " [ 75 204 212 204 193 205 211 225 216 185 197 206 198 213 240 195 227 245\n",
      "  239 223 218 212 209 222 220 221 230  67]\n",
      " [ 48 203 183 194 213 197 185 190 194 192 202 214 219 221 220 236 225 216\n",
      "  199 206 186 181 177 172 181 205 206 115]\n",
      " [  0 122 219 193 179 171 183 196 204 210 213 207 211 210 200 196 194 191\n",
      "  195 191 198 192 176 156 167 177 210  92]\n",
      " [  0   0  74 189 212 191 175 172 175 181 185 188 189 188 193 198 204 209\n",
      "  210 210 211 188 188 194 192 216 170   0]\n",
      " [  2   0   0   0  66 200 222 237 239 242 246 243 244 221 220 193 191 179\n",
      "  182 182 181 176 166 168  99  58   0   0]\n",
      " [  0   0   0   0   0   0   0  40  61  44  72  41  35   0   0   0   0   0\n",
      "    0   0   0   0   0   0   0   0   0   0]\n",
      " [  0   0   0   0   0   0   0   0   0   0   0   0   0   0   0   0   0   0\n",
      "    0   0   0   0   0   0   0   0   0   0]\n",
      " [  0   0   0   0   0   0   0   0   0   0   0   0   0   0   0   0   0   0\n",
      "    0   0   0   0   0   0   0   0   0   0]]\n",
      "Мітки тренувального датасету: [9 0 0 ... 3 0 5]\n",
      "Значення міток: від 0 до 9\n",
      "Розмір тестового датасету: 10000\n"
     ]
    }
   ],
   "source": [
    "print(\"Розмір тренувального датасету:\", len(train_data))\n",
    "print(\"Перший елемент тренувального датасету:\", train_data[0])\n",
    "print(\"Мітки тренувального датасету:\", train_labels)\n",
    "print(\"Значення міток: від\", min(train_labels), \"до\", max(train_labels))\n",
    "print(\"Розмір тестового датасету:\", len(test_data))"
   ]
  },
  {
   "cell_type": "code",
   "execution_count": 4,
   "id": "192f4277-b5bb-4ebd-b416-2b42bd401cb2",
   "metadata": {
    "tags": []
   },
   "outputs": [
    {
     "name": "stdout",
     "output_type": "stream",
     "text": [
      "(60000, 28, 28)\n",
      "(60000,)\n",
      "(10000, 28, 28)\n",
      "(10000,)\n"
     ]
    }
   ],
   "source": [
    "print(train_data.shape)\n",
    "print(train_labels.shape)\n",
    "print(test_data.shape)\n",
    "print(test_labels.shape)"
   ]
  },
  {
   "cell_type": "code",
   "execution_count": 5,
   "id": "ca540449-ad35-4f48-b291-1cec02631537",
   "metadata": {
    "tags": []
   },
   "outputs": [
    {
     "data": {
      "image/png": "[encoded data removed]",
      "text/plain": [
       "<Figure size 1200x400 with 5 Axes>"
      ]
     },
     "metadata": {},
     "output_type": "display_data"
    }
   ],
   "source": [
    "import tensorflow as tf\n",
    "import matplotlib.pyplot as plt\n",
    "\n",
    "num_samples = 5\n",
    "plt.figure(figsize=(12, 4))\n",
    "\n",
    "for i in range(num_samples):\n",
    "    plt.subplot(1, num_samples, i + 1)\n",
    "    plt.imshow(train_data[i], cmap='gray')\n",
    "    plt.title(f\"Label: {train_labels[i]}\")\n",
    "    plt.axis('off')\n",
    "\n",
    "plt.show()\n"
   ]
  },
  {
   "cell_type": "markdown",
   "id": "114c5246-7d2c-4698-be93-8ed599d47332",
   "metadata": {
    "tags": []
   },
   "source": [
    "## Приклад елементу даних"
   ]
  },
  {
   "cell_type": "code",
   "execution_count": 6,
   "id": "237e00b5-a5d3-44f0-97b7-3dcc76109ae1",
   "metadata": {
    "tags": []
   },
   "outputs": [
    {
     "name": "stdout",
     "output_type": "stream",
     "text": [
      "[[  0   0   0   0   0   1   0   0   0   0  41 188 103  54  48  43  87 168 133  16   0   0   0   0   0   0   0   0]\n",
      " [  0   0   0   1   0   0   0  49 136 219 216 228 236 255 255 255 255 217 215 254 231 160  45   0   0   0   0   0]\n",
      " [  0   0   0   0   0  14 176 222 224 212 203 198 196 200 215 204 202 201 201 201 209 218 224 164   0   0   0   0]\n",
      " [  0   0   0   0   0 188 219 200 198 202 198 199 199 201 196 198 198 200 200 200 200 201 200 225  41   0   0   0]\n",
      " [  0   0   0   0  51 219 199 203 203 212 238 248 250 245 249 246 247 252 248 235 207 203 203 222 140   0   0   0]\n",
      " [  0   0   0   0 116 226 206 204 207 204 101  75  47  73  48  50  45  51  63 113 222 202 206 220 224   0   0   0]\n",
      " [  0   0   0   0 200 222 209 203 215 200   0  70  98   0 103  59  68  71  49   0 219 206 214 210 250  38   0   0]\n",
      " [  0   0   0   0 247 218 212 210 215 214   0 254 243 139 255 174 251 255 205   0 215 217 214 208 220  95   0   0]\n",
      " [  0   0   0  45 226 214 214 215 224 205   0  42  35  60  16  17  12  13  70   0 189 216 212 206 212 156   0   0]\n",
      " [  0   0   0 164 235 214 211 220 216 201  52  71  89  94  83  78  70  76  92  87 206 207 222 213 219 208   0   0]\n",
      " [  0   0   0 106 187 223 237 248 211 198 252 250 248 245 248 252 253 250 252 239 201 212 225 215 193 113   0   0]\n",
      " [  0   0   0   0   0  17  54 159 222 193 208 192 197 200 200 200 200 201 203 195 210 165   0   0   0   0   0   0]\n",
      " [  0   0   0   0   0   0   0  47 225 192 214 203 206 204 204 205 206 204 212 197 218 107   0   0   0   0   0   0]\n",
      " [  0   0   0   0   1   6   0  46 212 195 212 202 206 205 204 205 206 204 212 200 218  91   0   3   1   0   0   0]\n",
      " [  0   0   0   0   0   1   0  11 197 199 205 202 205 206 204 205 207 204 205 205 218  77   0   5   0   0   0   0]\n",
      " [  0   0   0   0   0   3   0   2 191 198 201 205 206 205 205 206 209 206 199 209 219  74   0   5   0   0   0   0]\n",
      " [  0   0   0   0   0   2   0   0 188 197 200 207 207 204 207 207 210 208 198 207 221  72   0   4   0   0   0   0]\n",
      " [  0   0   0   0   0   2   0   0 215 198 203 206 208 205 207 207 210 208 200 202 222  75   0   4   0   0   0   0]\n",
      " [  0   0   0   0   0   1   0   0 212 198 209 206 209 206 208 207 211 206 205 198 221  80   0   3   0   0   0   0]\n",
      " [  0   0   0   0   0   1   0   0 204 201 205 208 207 205 211 205 210 210 209 195 221  96   0   3   0   0   0   0]\n",
      " [  0   0   0   0   0   1   0   0 202 201 205 209 207 205 213 206 210 209 210 194 217 105   0   2   0   0   0   0]\n",
      " [  0   0   0   0   0   1   0   0 204 204 205 208 207 205 215 207 210 208 211 193 213 115   0   2   0   0   0   0]\n",
      " [  0   0   0   0   0   0   0   0 204 207 207 208 206 206 215 210 210 207 212 195 210 118   0   2   0   0   0   0]\n",
      " [  0   0   0   0   0   1   0   0 198 208 208 208 204 207 212 212 210 207 211 196 207 121   0   1   0   0   0   0]\n",
      " [  0   0   0   0   0   1   0   0 198 210 207 208 206 209 213 212 211 207 210 197 207 124   0   1   0   0   0   0]\n",
      " [  0   0   0   0   0   0   0   0 172 210 203 201 199 204 207 205 204 201 205 197 206 127   0   0   0   0   0   0]\n",
      " [  0   0   0   0   0   0   0   0 188 221 214 234 236 238 244 244 244 240 243 214 224 162   0   2   0   0   0   0]\n",
      " [  0   0   0   0   0   1   0   0 139 146 130 135 135 137 125 124 125 121 119 114 130  76   0   0   0   0   0   0]]\n"
     ]
    }
   ],
   "source": [
    "import numpy as np\n",
    "np.set_printoptions(edgeitems=30, linewidth=100000, \n",
    "    formatter=dict(float=lambda x: \"%.3g\" % x))\n",
    "\n",
    "print(train_data[1])"
   ]
  },
  {
   "cell_type": "code",
   "execution_count": 7,
   "id": "ea510b54-240e-484f-b9a9-76a93d5b1fa7",
   "metadata": {
    "tags": []
   },
   "outputs": [
    {
     "data": {
      "text/plain": [
       "<matplotlib.image.AxesImage at 0x175d17bd0>"
      ]
     },
     "execution_count": 7,
     "metadata": {},
     "output_type": "execute_result"
    },
    {
     "data": {
      "image/png": "[encoded data removed]",
      "text/plain": [
       "<Figure size 640x480 with 1 Axes>"
      ]
     },
     "metadata": {},
     "output_type": "display_data"
    }
   ],
   "source": [
    "plt.imshow(train_data[1], cmap='gray')"
   ]
  },
  {
   "cell_type": "markdown",
   "id": "95ad6eca-0f61-4b02-b083-bf8523c576f1",
   "metadata": {},
   "source": [
    "## Створення моделі"
   ]
  },
  {
   "cell_type": "code",
   "execution_count": 8,
   "id": "f42b077c-2fca-4f49-8470-99c7728ce527",
   "metadata": {
    "tags": []
   },
   "outputs": [
    {
     "name": "stderr",
     "output_type": "stream",
     "text": [
      "/Users/katerynaturuntseva/anaconda3/lib/python3.11/site-packages/keras/src/layers/convolutional/base_conv.py:99: UserWarning: Do not pass an `input_shape`/`input_dim` argument to a layer. When using Sequential models, prefer using an `Input(shape)` object as the first layer in the model instead.\n",
      "  super().__init__(\n"
     ]
    },
    {
     "ename": "ValueError",
     "evalue": "Could not interpret activation function identifier: PReLU",
     "output_type": "error",
     "traceback": [
      "\u001b[0;31m---------------------------------------------------------------------------\u001b[0m",
      "\u001b[0;31mValueError\u001b[0m                                Traceback (most recent call last)",
      "Cell \u001b[0;32mIn[8], line 6\u001b[0m\n\u001b[1;32m      2\u001b[0m \u001b[38;5;28;01mfrom\u001b[39;00m \u001b[38;5;21;01mkeras\u001b[39;00m \u001b[38;5;28;01mimport\u001b[39;00m models\n\u001b[1;32m      3\u001b[0m \u001b[38;5;28;01mfrom\u001b[39;00m \u001b[38;5;21;01mkeras\u001b[39;00m\u001b[38;5;21;01m.\u001b[39;00m\u001b[38;5;21;01mlayers\u001b[39;00m \u001b[38;5;28;01mimport\u001b[39;00m PReLU\n\u001b[1;32m      5\u001b[0m model \u001b[38;5;241m=\u001b[39m models\u001b[38;5;241m.\u001b[39mSequential([\n\u001b[0;32m----> 6\u001b[0m     layers\u001b[38;5;241m.\u001b[39mConv2D(\u001b[38;5;241m32\u001b[39m, (\u001b[38;5;241m3\u001b[39m, \u001b[38;5;241m3\u001b[39m), activation\u001b[38;5;241m=\u001b[39m\u001b[38;5;124m\"\u001b[39m\u001b[38;5;124mPReLU\u001b[39m\u001b[38;5;124m\"\u001b[39m, input_shape\u001b[38;5;241m=\u001b[39m(\u001b[38;5;241m28\u001b[39m, \u001b[38;5;241m28\u001b[39m, \u001b[38;5;241m1\u001b[39m)),\n\u001b[1;32m      7\u001b[0m     layers\u001b[38;5;241m.\u001b[39mMaxPooling2D((\u001b[38;5;241m2\u001b[39m, \u001b[38;5;241m2\u001b[39m)),\n\u001b[1;32m      8\u001b[0m \n\u001b[1;32m      9\u001b[0m     layers\u001b[38;5;241m.\u001b[39mConv2D(\u001b[38;5;241m64\u001b[39m, (\u001b[38;5;241m3\u001b[39m, \u001b[38;5;241m3\u001b[39m), activation\u001b[38;5;241m=\u001b[39m\u001b[38;5;124m\"\u001b[39m\u001b[38;5;124mPReLU\u001b[39m\u001b[38;5;124m\"\u001b[39m),\n\u001b[1;32m     10\u001b[0m     layers\u001b[38;5;241m.\u001b[39mMaxPooling2D((\u001b[38;5;241m2\u001b[39m, \u001b[38;5;241m2\u001b[39m)),\n\u001b[1;32m     11\u001b[0m \n\u001b[1;32m     12\u001b[0m     layers\u001b[38;5;241m.\u001b[39mConv2D(\u001b[38;5;241m64\u001b[39m, (\u001b[38;5;241m3\u001b[39m, \u001b[38;5;241m3\u001b[39m), activation\u001b[38;5;241m=\u001b[39m\u001b[38;5;124m\"\u001b[39m\u001b[38;5;124mPReLU\u001b[39m\u001b[38;5;124m\"\u001b[39m),\n\u001b[1;32m     13\u001b[0m \n\u001b[1;32m     14\u001b[0m     layers\u001b[38;5;241m.\u001b[39mFlatten(),\n\u001b[1;32m     15\u001b[0m     layers\u001b[38;5;241m.\u001b[39mDense(\u001b[38;5;241m64\u001b[39m, activation\u001b[38;5;241m=\u001b[39m\u001b[38;5;124m\"\u001b[39m\u001b[38;5;124mPReLU\u001b[39m\u001b[38;5;124m\"\u001b[39m),\n\u001b[1;32m     16\u001b[0m     layers\u001b[38;5;241m.\u001b[39mDense(\u001b[38;5;241m10\u001b[39m, activation\u001b[38;5;241m=\u001b[39m\u001b[38;5;124m\"\u001b[39m\u001b[38;5;124msoftmax\u001b[39m\u001b[38;5;124m\"\u001b[39m)\n\u001b[1;32m     17\u001b[0m ])\n",
      "File \u001b[0;32m~/anaconda3/lib/python3.11/site-packages/keras/src/layers/convolutional/conv2d.py:107\u001b[0m, in \u001b[0;36mConv2D.__init__\u001b[0;34m(self, filters, kernel_size, strides, padding, data_format, dilation_rate, groups, activation, use_bias, kernel_initializer, bias_initializer, kernel_regularizer, bias_regularizer, activity_regularizer, kernel_constraint, bias_constraint, **kwargs)\u001b[0m\n\u001b[1;32m     87\u001b[0m \u001b[38;5;28;01mdef\u001b[39;00m \u001b[38;5;21m__init__\u001b[39m(\n\u001b[1;32m     88\u001b[0m     \u001b[38;5;28mself\u001b[39m,\n\u001b[1;32m     89\u001b[0m     filters,\n\u001b[0;32m   (...)\u001b[0m\n\u001b[1;32m    105\u001b[0m     \u001b[38;5;241m*\u001b[39m\u001b[38;5;241m*\u001b[39mkwargs\n\u001b[1;32m    106\u001b[0m ):\n\u001b[0;32m--> 107\u001b[0m     \u001b[38;5;28msuper\u001b[39m()\u001b[38;5;241m.\u001b[39m\u001b[38;5;21m__init__\u001b[39m(\n\u001b[1;32m    108\u001b[0m         rank\u001b[38;5;241m=\u001b[39m\u001b[38;5;241m2\u001b[39m,\n\u001b[1;32m    109\u001b[0m         filters\u001b[38;5;241m=\u001b[39mfilters,\n\u001b[1;32m    110\u001b[0m         kernel_size\u001b[38;5;241m=\u001b[39mkernel_size,\n\u001b[1;32m    111\u001b[0m         strides\u001b[38;5;241m=\u001b[39mstrides,\n\u001b[1;32m    112\u001b[0m         padding\u001b[38;5;241m=\u001b[39mpadding,\n\u001b[1;32m    113\u001b[0m         data_format\u001b[38;5;241m=\u001b[39mdata_format,\n\u001b[1;32m    114\u001b[0m         dilation_rate\u001b[38;5;241m=\u001b[39mdilation_rate,\n\u001b[1;32m    115\u001b[0m         groups\u001b[38;5;241m=\u001b[39mgroups,\n\u001b[1;32m    116\u001b[0m         activation\u001b[38;5;241m=\u001b[39mactivation,\n\u001b[1;32m    117\u001b[0m         use_bias\u001b[38;5;241m=\u001b[39muse_bias,\n\u001b[1;32m    118\u001b[0m         kernel_initializer\u001b[38;5;241m=\u001b[39mkernel_initializer,\n\u001b[1;32m    119\u001b[0m         bias_initializer\u001b[38;5;241m=\u001b[39mbias_initializer,\n\u001b[1;32m    120\u001b[0m         kernel_regularizer\u001b[38;5;241m=\u001b[39mkernel_regularizer,\n\u001b[1;32m    121\u001b[0m         bias_regularizer\u001b[38;5;241m=\u001b[39mbias_regularizer,\n\u001b[1;32m    122\u001b[0m         activity_regularizer\u001b[38;5;241m=\u001b[39mactivity_regularizer,\n\u001b[1;32m    123\u001b[0m         kernel_constraint\u001b[38;5;241m=\u001b[39mkernel_constraint,\n\u001b[1;32m    124\u001b[0m         bias_constraint\u001b[38;5;241m=\u001b[39mbias_constraint,\n\u001b[1;32m    125\u001b[0m         \u001b[38;5;241m*\u001b[39m\u001b[38;5;241m*\u001b[39mkwargs\n\u001b[1;32m    126\u001b[0m     )\n",
      "File \u001b[0;32m~/anaconda3/lib/python3.11/site-packages/keras/src/layers/convolutional/base_conv.py:115\u001b[0m, in \u001b[0;36mBaseConv.__init__\u001b[0;34m(self, rank, filters, kernel_size, strides, padding, data_format, dilation_rate, groups, activation, use_bias, kernel_initializer, bias_initializer, kernel_regularizer, bias_regularizer, activity_regularizer, kernel_constraint, bias_constraint, trainable, name, **kwargs)\u001b[0m\n\u001b[1;32m    113\u001b[0m \u001b[38;5;28mself\u001b[39m\u001b[38;5;241m.\u001b[39mpadding \u001b[38;5;241m=\u001b[39m standardize_padding(padding, allow_causal\u001b[38;5;241m=\u001b[39mrank \u001b[38;5;241m==\u001b[39m \u001b[38;5;241m1\u001b[39m)\n\u001b[1;32m    114\u001b[0m \u001b[38;5;28mself\u001b[39m\u001b[38;5;241m.\u001b[39mdata_format \u001b[38;5;241m=\u001b[39m standardize_data_format(data_format)\n\u001b[0;32m--> 115\u001b[0m \u001b[38;5;28mself\u001b[39m\u001b[38;5;241m.\u001b[39mactivation \u001b[38;5;241m=\u001b[39m activations\u001b[38;5;241m.\u001b[39mget(activation)\n\u001b[1;32m    116\u001b[0m \u001b[38;5;28mself\u001b[39m\u001b[38;5;241m.\u001b[39muse_bias \u001b[38;5;241m=\u001b[39m use_bias\n\u001b[1;32m    117\u001b[0m \u001b[38;5;28mself\u001b[39m\u001b[38;5;241m.\u001b[39mkernel_initializer \u001b[38;5;241m=\u001b[39m initializers\u001b[38;5;241m.\u001b[39mget(kernel_initializer)\n",
      "File \u001b[0;32m~/anaconda3/lib/python3.11/site-packages/keras/src/activations/__init__.py:104\u001b[0m, in \u001b[0;36mget\u001b[0;34m(identifier)\u001b[0m\n\u001b[1;32m    102\u001b[0m \u001b[38;5;28;01mif\u001b[39;00m \u001b[38;5;28mcallable\u001b[39m(obj):\n\u001b[1;32m    103\u001b[0m     \u001b[38;5;28;01mreturn\u001b[39;00m obj\n\u001b[0;32m--> 104\u001b[0m \u001b[38;5;28;01mraise\u001b[39;00m \u001b[38;5;167;01mValueError\u001b[39;00m(\n\u001b[1;32m    105\u001b[0m     \u001b[38;5;124mf\u001b[39m\u001b[38;5;124m\"\u001b[39m\u001b[38;5;124mCould not interpret activation function identifier: \u001b[39m\u001b[38;5;132;01m{\u001b[39;00midentifier\u001b[38;5;132;01m}\u001b[39;00m\u001b[38;5;124m\"\u001b[39m\n\u001b[1;32m    106\u001b[0m )\n",
      "\u001b[0;31mValueError\u001b[0m: Could not interpret activation function identifier: PReLU"
     ]
    }
   ],
   "source": [
    "from keras import layers\n",
    "from keras import models\n",
    "from keras.layers import PReLU\n",
    "\n",
    "model = models.Sequential([\n",
    "    layers.Conv2D(32, (3, 3), activation=\"PReLU\", input_shape=(28, 28, 1)),\n",
    "    layers.MaxPooling2D((2, 2)),\n",
    "\n",
    "    layers.Conv2D(64, (3, 3), activation=\"PReLU\"),\n",
    "    layers.MaxPooling2D((2, 2)),\n",
    "\n",
    "    layers.Conv2D(64, (3, 3), activation=\"PReLU\"),\n",
    "\n",
    "    layers.Flatten(),\n",
    "    layers.Dense(64, activation=\"PReLU\"),\n",
    "    layers.Dense(10, activation=\"softmax\")\n",
    "])"
   ]
  },
  {
   "cell_type": "code",
   "execution_count": null,
   "id": "e7bd9339-6576-4063-8901-417792aa611c",
   "metadata": {
    "tags": []
   },
   "outputs": [],
   "source": [
    "model.summary()"
   ]
  },
  {
   "cell_type": "markdown",
   "id": "e69280a0-94f8-4285-855a-59bd04c31808",
   "metadata": {},
   "source": [
    "## Компіляція і тренування моделі"
   ]
  },
  {
   "cell_type": "code",
   "execution_count": null,
   "id": "46a2b866-41e3-4976-b056-c8267f33e46a",
   "metadata": {
    "tags": []
   },
   "outputs": [],
   "source": [
    "# Compile the model\n",
    "model.compile(optimizer='adam',\n",
    "              loss='sparse_categorical_crossentropy',\n",
    "              metrics=['accuracy'])\n",
    "\n",
    "# Train the model\n",
    "history = model.fit(train_data, train_labels, epochs=6, batch_size=256, validation_data=(test_data, test_labels))"
   ]
  },
  {
   "cell_type": "code",
   "execution_count": null,
   "id": "f0afcecc-de14-467d-a529-f0b31c8d7c71",
   "metadata": {
    "tags": []
   },
   "outputs": [],
   "source": [
    "test_loss, test_accuracy = model.evaluate(test_data, test_labels)\n",
    "print(f\"Test Accuracy: {test_accuracy}\")"
   ]
  },
  {
   "cell_type": "code",
   "execution_count": null,
   "id": "dc7ea562-b025-45c5-8a20-f24b4b5b8a2c",
   "metadata": {
    "tags": []
   },
   "outputs": [],
   "source": [
    "def history_visual(history):    \n",
    "    history_dict = history.history\n",
    "    loss_values = history_dict['loss']\n",
    "    val_loss_values = history_dict['val_loss']\n",
    "\n",
    "    epochs = range(1, len(history_dict['accuracy']) + 1)\n",
    "\n",
    "    plt.plot(epochs, loss_values, 'bo', label='Training loss')\n",
    "    plt.plot(epochs, val_loss_values, 'b', label='Validation loss')\n",
    "    plt.title('Training and validation loss')\n",
    "    plt.xlabel('Epochs')\n",
    "    plt.ylabel('Loss')\n",
    "    plt.legend()\n",
    "    plt.show()\n",
    "\n",
    "    plt.clf()\n",
    "    val_acc_values = history_dict['val_accuracy']\n",
    "    plt.plot(epochs, history_dict['accuracy'], 'bo', label='Training acc')\n",
    "    plt.plot(epochs, history_dict['val_accuracy'], 'b', label='Validation acc')\n",
    "    plt.title('Training and validation accuracy')\n",
    "    plt.xlabel('Epochs')\n",
    "    plt.ylabel('Loss')\n",
    "    plt.legend()"
   ]
  },
  {
   "cell_type": "code",
   "execution_count": null,
   "id": "99d56a04-5bae-40f6-8e18-363480fdd29c",
   "metadata": {
    "tags": []
   },
   "outputs": [],
   "source": [
    "history_visual(history)"
   ]
  },
  {
   "cell_type": "markdown",
   "id": "1efada18-6638-4832-ac20-602db31c46a6",
   "metadata": {},
   "source": [
    "## Висновок №1\n",
    "Побудована модель показала гарні результати на навчальній вибірці: точність нейромережі становить приблизно 98%. На валідаційних даних результати дещо гірші: максимальна точність склала приблизно 91%. У порівнянні з найкращою моделлю, побудованою у домашньому завданні №9, згорткова нейромережа показала кращі результати."
   ]
  },
  {
   "cell_type": "markdown",
   "id": "a1daae39-682e-4781-abcc-1e4a56e9a2bf",
   "metadata": {},
   "source": [
    "### Порівняльна таблиця двох нейромереж\n",
    "|     Параметр    | Нейромережа ДЗ №9 | Нейромережа ДЗ №10 |\n",
    "|-----------------|-------|--------|\n",
    "|Кількість шарів  |   3   |    8   |\n",
    "|Функція активації| PReLU |  PReLU |\n",
    "|Кількість епох   |   50  |    6   |\n",
    "|Розмір батчу     |  250  |   256  |\n",
    "|Оптимізатор      | Adam  |  Adam  |\n",
    "|Точність         |  91%  |   98%  |  \n",
    "|Точність на валідаційних даних   |  90%  |   91%  |\n"
   ]
  },
  {
   "cell_type": "markdown",
   "id": "b26bd83c-8a7c-4bcd-8712-5fd326c3128b",
   "metadata": {},
   "source": [
    "# Частина №2:"
   ]
  },
  {
   "cell_type": "markdown",
   "id": "1b680914-fc70-487f-8003-9cd2187efc0e",
   "metadata": {},
   "source": [
    "## Завантаження передвиборної моделі VGG16 без повністю з'єднаних шарів"
   ]
  },
  {
   "cell_type": "code",
   "execution_count": null,
   "id": "b040d28f-1fb4-4e81-9ea6-f507cf20313f",
   "metadata": {},
   "outputs": [],
   "source": [
    "from tensorflow.keras.applications import VGG16\n",
    "\n",
    "vgg16_base = VGG16(weights='imagenet', include_top=False, input_shape=(64, 64, 3))\n",
    "vgg16_base.trainable = False\n",
    "\n",
    "vgg16_base.summary()"
   ]
  },
  {
   "cell_type": "markdown",
   "id": "2a1ea3c7-51eb-4316-8a77-cec72ac427eb",
   "metadata": {},
   "source": [
    "## Побудова моделі з виділенням ознак"
   ]
  },
  {
   "cell_type": "code",
   "execution_count": null,
   "id": "33ce6efd-b9e0-43c5-ab58-63b489c87929",
   "metadata": {
    "tags": []
   },
   "outputs": [],
   "source": [
    "from keras import layers\n",
    "from keras import models\n",
    "from keras.layers import PReLU\n",
    "\n",
    "model1 = models.Sequential([\n",
    "    vgg16_base,\n",
    "    layers.Flatten(),\n",
    "    layers.Dense(64, activation=\"PReLU\"),\n",
    "    layers.Dense(10, activation=\"softmax\")\n",
    "])\n",
    "                                                  \n",
    "model1.summary()"
   ]
  },
  {
   "cell_type": "markdown",
   "id": "6edf59a5-5575-4cd3-a273-d865f055a861",
   "metadata": {},
   "source": [
    "## Компіляція мережі"
   ]
  },
  {
   "cell_type": "code",
   "execution_count": null,
   "id": "82e4a757-ba11-40da-80bd-68135b77a1a8",
   "metadata": {
    "tags": []
   },
   "outputs": [],
   "source": [
    "model1.compile(optimizer='adam',\n",
    "              loss='sparse_categorical_crossentropy',\n",
    "              metrics=['accuracy'])"
   ]
  },
  {
   "cell_type": "markdown",
   "id": "b5df4c5f-219f-4f17-9033-fb863b19a1aa",
   "metadata": {},
   "source": [
    "## Підготовка даних"
   ]
  },
  {
   "cell_type": "code",
   "execution_count": null,
   "id": "72c7c2d4-101f-40af-bd5d-d7d38321003f",
   "metadata": {
    "tags": []
   },
   "outputs": [],
   "source": [
    "import numpy as np\n",
    "from tensorflow.keras.applications import VGG16\n",
    "from keras import layers\n",
    "from keras import models\n",
    "from keras.layers import PReLU\n",
    "from keras.datasets import fashion_mnist\n",
    "from keras.preprocessing.image import ImageDataGenerator\n",
    "from PIL import Image\n",
    "\n",
    "def resize_image(image, target_size=(64, 64)):\n",
    "    image = Image.fromarray(image)\n",
    "    image = image.resize(target_size)\n",
    "    return np.array(image)\n",
    "\n",
    "def preprocess_image(image):\n",
    "    image = image / 255.0  \n",
    "    return image\n",
    "\n",
    "\n",
    "(train_data1, train_labels1), (test_data1, test_labels1) = fashion_mnist.load_data()\n",
    "\n",
    "train_data1, test_data1 = train_data1 / 255., test_data1 / 255.\n",
    "\n",
    "resized_train_data = np.array([resize_image(img) for img in train_data1])\n",
    "resized_test_data = np.array([resize_image(img) for img in test_data1])\n",
    "\n",
    "# Перевірка розмірів після зміни\n",
    "print(resized_train_data.shape)\n",
    "print(resized_test_data.shape)\n"
   ]
  },
  {
   "cell_type": "code",
   "execution_count": null,
   "id": "98e0e58b-b2d5-4a79-856c-bb299689390d",
   "metadata": {
    "tags": []
   },
   "outputs": [],
   "source": [
    "resized_train_data = np.expand_dims(resized_train_data, axis=-1)\n",
    "resized_train_data = np.repeat(resized_train_data, 3, axis=-1)\n",
    "resized_test_data = np.expand_dims(resized_test_data, axis=-1)\n",
    "resized_test_data = np.repeat(resized_test_data, 3, axis=-1)\n",
    "\n",
    "print(resized_train_data.shape)\n",
    "print(resized_test_data.shape)"
   ]
  },
  {
   "cell_type": "markdown",
   "id": "7063cba1-586c-4172-a058-5ccb419bf955",
   "metadata": {},
   "source": [
    "## Тренування моделі"
   ]
  },
  {
   "cell_type": "code",
   "execution_count": null,
   "id": "0999ebb8-4fcf-4986-9123-12f382798538",
   "metadata": {
    "tags": []
   },
   "outputs": [],
   "source": [
    "history1 = model1.fit(\n",
    "    resized_train_data,\n",
    "    train_labels1, \n",
    "    epochs=10,\n",
    "    batch_size=256,  \n",
    "    validation_data=(resized_test_data, test_labels1)\n",
    ")"
   ]
  },
  {
   "cell_type": "code",
   "execution_count": null,
   "id": "af6dcd21-84f8-4466-ba68-4a8e0b7c0fd0",
   "metadata": {
    "tags": []
   },
   "outputs": [],
   "source": [
    "import matplotlib.pyplot as plt\n",
    "\n",
    "history_visual(history1)"
   ]
  },
  {
   "cell_type": "markdown",
   "id": "07c80e37-3043-4cc8-a15f-625f93a279de",
   "metadata": {},
   "source": [
    "## Висновок №2\n",
    "Побудована модель з використанням VGG16 показала непогані результати на навчальній вибірці: точність нейромережі становить приблизно 92%. На валідаційних даних  максимальна точність склала 90%. Ці результати схожі з тими, які було отримано у домашньому завданні №9, але гірші за отримані у першій частині завдання №10. Можливо потрібно було більше епох для якісного навчання моделі з використанням VGG16, але воно проходило досить довго, тому зупинемося на досягнутих результатах."
   ]
  },
  {
   "cell_type": "code",
   "execution_count": null,
   "id": "42d15464-11d3-4aa8-801f-a8bef874fb0b",
   "metadata": {},
   "outputs": [],
   "source": []
  }
 ],
 "metadata": {
  "kernelspec": {
   "display_name": "Python 3 (ipykernel)",
   "language": "python",
   "name": "python3"
  },
  "language_info": {
   "codemirror_mode": {
    "name": "ipython",
    "version": 3
   },
   "file_extension": ".py",
   "mimetype": "text/x-python",
   "name": "python",
   "nbconvert_exporter": "python",
   "pygments_lexer": "ipython3",
   "version": "3.11.5"
  }
 },
 "nbformat": 4,
 "nbformat_minor": 5
}
