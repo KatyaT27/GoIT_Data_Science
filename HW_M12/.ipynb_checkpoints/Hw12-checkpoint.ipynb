{
 "cells": [
  {
   "cell_type": "markdown",
   "id": "82b5b6bb-0e4f-4a5e-9400-00e2d4b4fa18",
   "metadata": {},
   "source": [
    "# Домашнє завдання №12"
   ]
  },
  {
   "cell_type": "code",
   "execution_count": 1,
   "id": "d411bfa2-7a63-4d5d-90c9-b7dda3703ba1",
   "metadata": {
    "tags": []
   },
   "outputs": [
    {
     "ename": "ModuleNotFoundError",
     "evalue": "No module named 'spacy'",
     "output_type": "error",
     "traceback": [
      "\u001b[0;31m---------------------------------------------------------------------------\u001b[0m",
      "\u001b[0;31mModuleNotFoundError\u001b[0m                       Traceback (most recent call last)",
      "Cell \u001b[0;32mIn[1], line 1\u001b[0m\n\u001b[0;32m----> 1\u001b[0m \u001b[38;5;28;01mimport\u001b[39;00m \u001b[38;5;21;01mspacy\u001b[39;00m\n\u001b[1;32m      2\u001b[0m \u001b[38;5;28;01mimport\u001b[39;00m \u001b[38;5;21;01mnltk\u001b[39;00m\n\u001b[1;32m      3\u001b[0m \u001b[38;5;28;01mfrom\u001b[39;00m \u001b[38;5;21;01mnltk\u001b[39;00m\u001b[38;5;21;01m.\u001b[39;00m\u001b[38;5;21;01mcorpus\u001b[39;00m \u001b[38;5;28;01mimport\u001b[39;00m stopwords\n",
      "\u001b[0;31mModuleNotFoundError\u001b[0m: No module named 'spacy'"
     ]
    }
   ],
   "source": [
    "import spacy\n",
    "import nltk\n",
    "from nltk.corpus import stopwords\n",
    "from nltk.tokenize import word_tokenize, sent_tokenize\n",
    "from heapq import nlargest"
   ]
  },
  {
   "cell_type": "code",
   "execution_count": null,
   "id": "9d8b5019",
   "metadata": {},
   "outputs": [
    {
     "name": "stdout",
     "output_type": "stream",
     "text": [
      "Requirement already satisfied: nltk in /Users/katerynaturuntseva/anaconda3/lib/python3.11/site-packages (3.8.1)\r\n",
      "Requirement already satisfied: click in /Users/katerynaturuntseva/anaconda3/lib/python3.11/site-packages (from nltk) (8.0.4)\r\n",
      "Requirement already satisfied: joblib in /Users/katerynaturuntseva/anaconda3/lib/python3.11/site-packages (from nltk) (1.2.0)\r\n",
      "Requirement already satisfied: regex>=2021.8.3 in /Users/katerynaturuntseva/anaconda3/lib/python3.11/site-packages (from nltk) (2022.7.9)\r\n",
      "Requirement already satisfied: tqdm in /Users/katerynaturuntseva/anaconda3/lib/python3.11/site-packages (from nltk) (4.65.0)\r\n"
     ]
    }
   ],
   "source": [
    "pip install nltk"
   ]
  },
  {
   "cell_type": "code",
   "execution_count": null,
   "id": "4d99152d-7054-407a-bdab-67dc02cea9b3",
   "metadata": {
    "tags": []
   },
   "outputs": [],
   "source": [
    "nlp = spacy.load('en_core_web_sm')\n",
    "nlp"
   ]
  },
  {
   "cell_type": "markdown",
   "id": "97889cd8-97f7-4599-9154-d8bdc927f311",
   "metadata": {},
   "source": [
    "## Підготовка тексту"
   ]
  },
  {
   "cell_type": "markdown",
   "id": "1cabab7d-525a-4bd5-a300-6b593a64dc52",
   "metadata": {},
   "source": [
    "### Розбиття тексту на токени"
   ]
  },
  {
   "cell_type": "code",
   "execution_count": null,
   "id": "8a4b8eef-ba28-4793-9a76-927fa72c5f69",
   "metadata": {
    "tags": []
   },
   "outputs": [],
   "source": [
    "text = \"The Orbiter Discovery, OV-103, is considered eligible for listing in the National Register of Historic Places (NRHP) in the context of the U.S. Space Shuttle Program (1969-2011) under Criterion A in the areas of Space Exploration and Transportation and under Criterion C in the area of Engineering. Because it has achieved significance within the past fifty years, Criteria Consideration G applies. Under Criterion A, Discovery is significant as the oldest of the three extant orbiter vehicles constructed for the Space Shuttle Program (SSP), the longest running American space program to date; she was the third of five orbiters built by NASA. Unlike the Mercury, Gemini, and Apollo programs, the SSP’s emphasis was on cost effectiveness and reusability, and eventually the construction of a space station. Including her maiden voyage (launched August 30, 1984), Discovery flew to space thirty-nine times, more than any of the other four orbiters; she was also the first orbiter to fly twenty missions. She had the honor of being chosen as the Return to Flight vehicle after both the Challenger and Columbia accidents. Discovery was the first shuttle to fly with the redesigned SRBs, a result of the Challenger accident, and the first shuttle to fly with the Phase II and Block I SSME. Discovery also carried the Hubble Space Telescope to orbit and performed two of the five servicing missions to the observatory. She flew the first and last dedicated Department of Defense (DoD) missions, as well as the first unclassified defense-related mission. In addition, Discovery was vital to the construction of the International Space Station (ISS); she flew thirteen of the thirty-seven total missions flown to the station by a U.S. Space Shuttle. She was the first orbiter to dock to the ISS, and the first to perform an exchange of a resident crew. Under Criterion C, Discovery is significant as a feat of engineering. According to Wayne Hale, a flight director from Johnson Space Center, the Space Shuttle orbiter represents a “huge technological leap from expendable rockets and capsules to a reusable, winged, hypersonic, cargo-carrying spacecraft.” Although her base structure followed a conventional aircraft design, she used advanced materials that both minimized her weight for cargo-carrying purposes and featured low thermal expansion ratios, which provided a stable base for her Thermal Protection System (TPS) materials. The Space Shuttle orbiter also featured the first reusable TPS; all previous spaceflight vehicles had a single-use, ablative heat shield. Other notable engineering achievements of the orbiter included the first reusable orbital propulsion system, and the first two-fault-tolerant Integrated Avionics System. As Hale stated, the Space Shuttle remains “the largest, fastest, winged hypersonic aircraft in history,” having regularly flown at twenty-five times the speed of sound.\"\n",
    "\n",
    "doc = nlp(text)\n",
    "tokens = [token.text for token in doc]\n",
    "print(tokens)"
   ]
  },
  {
   "cell_type": "markdown",
   "id": "9748403f-068b-4094-bddb-09d428613267",
   "metadata": {},
   "source": [
    "### Розбиття тексту на речення і завантаження стоп-слів"
   ]
  },
  {
   "cell_type": "code",
   "execution_count": null,
   "id": "e2c10b11-64bd-4f7e-bc82-4877256f951c",
   "metadata": {
    "tags": []
   },
   "outputs": [],
   "source": [
    "nltk.download('punkt')\n",
    "nltk.download('stopwords')\n",
    "\n",
    "sentences = sent_tokenize(text)\n",
    "stop_words = set(stopwords.words('english'))\n",
    "\n",
    "print(sentences)\n",
    "print(stop_words)"
   ]
  },
  {
   "cell_type": "markdown",
   "id": "c72ff6c5-5a5a-46db-8978-2d41ff8e09ed",
   "metadata": {},
   "source": [
    "### Створення списку знаків пунктуації"
   ]
  },
  {
   "cell_type": "code",
   "execution_count": null,
   "id": "33b51f33-0764-4f7a-8eae-441a1be063b7",
   "metadata": {
    "tags": []
   },
   "outputs": [],
   "source": [
    "import string\n",
    "\n",
    "punctuation = string.punctuation\n",
    "punctuation = punctuation + '“' + '”' + '\\n'\n",
    "punctuation"
   ]
  },
  {
   "cell_type": "markdown",
   "id": "8209abb0-689b-44cc-8a6f-5ce295c90b90",
   "metadata": {},
   "source": [
    "### Обчислення частоти кожного слова в тексті"
   ]
  },
  {
   "cell_type": "code",
   "execution_count": null,
   "id": "63695c05-ef95-4e0b-8dee-488ed585c7dc",
   "metadata": {
    "tags": []
   },
   "outputs": [],
   "source": [
    "word_frequencies = {}\n",
    "for word in tokens:\n",
    "    if word.lower() not in stop_words:\n",
    "        if word.lower() not in punctuation:\n",
    "            if word not in word_frequencies.keys():\n",
    "                word_frequencies[word] = 1\n",
    "            else:\n",
    "                word_frequencies[word] += 1\n",
    "print(word_frequencies)"
   ]
  },
  {
   "cell_type": "markdown",
   "id": "a9a84349-b706-4c5f-8065-791f394ef3c4",
   "metadata": {
    "tags": []
   },
   "source": [
    "### Визначення 10 найзначущих слів"
   ]
  },
  {
   "cell_type": "code",
   "execution_count": null,
   "id": "453e4711-15e2-4ae7-abf2-9b4aa9bd4ef7",
   "metadata": {
    "tags": []
   },
   "outputs": [],
   "source": [
    "sentence_scores = nlargest(10, word_frequencies.values(), key=None)\n",
    "sentence_scores"
   ]
  },
  {
   "cell_type": "markdown",
   "id": "e7102e41-c02e-46b5-ae2a-e646a1c5ae3e",
   "metadata": {},
   "source": [
    "### Формування summary"
   ]
  },
  {
   "cell_type": "code",
   "execution_count": null,
   "id": "43659e6e-cb29-4aa2-a54d-1abded8139dc",
   "metadata": {
    "tags": []
   },
   "outputs": [],
   "source": [
    "select_length = int(len(sentences))\n",
    "summary_indices = nlargest(select_length, range(len(sentence_scores)), key=sentence_scores.__getitem__)\n",
    "summary = [sentences[i] for i in summary_indices[:4]]\n",
    "summary = ' '.join(str(sentence) for sentence in summary)\n",
    "print(summary)"
   ]
  },
  {
   "cell_type": "markdown",
   "id": "7d0ffaa8-3d2e-4e31-9f8c-a80ee687927e",
   "metadata": {},
   "source": [
    "# Висновки:\n",
    "У даному домашньому завданні ми використали різні бібліотеки та функції для обробки тексту та генерації summary. Основні етапи:\n",
    "\n",
    "1. Обробка тексту за допомогою SpaCy та NLTK: Використовується бібліотека SpaCy для обробки тексту, створення об'єкту документа, токенізації та визначення частин мови. NLTK використовується для завантаження ресурсів для токенізації та стоп-слів.\n",
    "2. Визначення частот слів: Створюється словник word_frequencies, який містить частоту кожного слова в тексті після виключення стоп-слів та знаків пунктуації.\n",
    "3. Визначення рейтингу речень: Використовується функція nlargest для визначення рейтингу речень на основі їхніх частот слів.\n",
    "4. Формування summary: Вибираються найбільш значущі індекси речень на основі рейтингу.\n",
    "\n",
    "Таким чином формується summary на основі вибору відповідних речень за їхніми індексами та об'єднання їх в один текст.\n",
    "Цей підхід може бути ефективним для простих випадків, але в реальних умовах напевно доведеться враховувати більше параметрів, таких як взаємозв'язок слів, для отримання більш точного та контекстно-зорієнтованого summary."
   ]
  },
  {
   "cell_type": "code",
   "execution_count": null,
   "id": "3733b573-df24-473d-b1cb-541c6ae55840",
   "metadata": {},
   "outputs": [],
   "source": []
  }
 ],
 "metadata": {
  "kernelspec": {
   "display_name": "Python 3 (ipykernel)",
   "language": "python",
   "name": "python3"
  },
  "language_info": {
   "codemirror_mode": {
    "name": "ipython",
    "version": 3
   },
   "file_extension": ".py",
   "mimetype": "text/x-python",
   "name": "python",
   "nbconvert_exporter": "python",
   "pygments_lexer": "ipython3",
   "version": "3.11.5"
  }
 },
 "nbformat": 4,
 "nbformat_minor": 5
}
