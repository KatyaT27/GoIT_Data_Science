{
 "cells": [
  {
   "cell_type": "markdown",
   "id": "18444de2-ac1f-4935-8e0c-6379630d24ca",
   "metadata": {},
   "source": [
    "# Домашнє завдання №11\n",
    "\n",
    "# Частина №1. Рекурентна нейронна мережа RNN"
   ]
  },
  {
   "cell_type": "code",
   "execution_count": 1,
   "id": "9f2e959b-08a8-4754-95b2-6c27bb6e1504",
   "metadata": {
    "tags": []
   },
   "outputs": [],
   "source": [
    "import matplotlib.pyplot as plt\n",
    "from keras.datasets import imdb\n",
    "from keras.utils import pad_sequences\n",
    "from keras.models import Sequential\n",
    "from keras.layers import Embedding, SimpleRNN, Dense, SpatialDropout1D      "
   ]
  },
  {
   "cell_type": "markdown",
   "id": "15b21841-3db1-4a9a-b58a-58c43076c562",
   "metadata": {},
   "source": [
    "### Встановлення гіперпараметрів:"
   ]
  },
  {
   "cell_type": "code",
   "execution_count": 2,
   "id": "0f63d3aa-5dca-483a-8d4e-dc7f827dc4e3",
   "metadata": {
    "tags": []
   },
   "outputs": [],
   "source": [
    "max_features = 10000  # кількість слів, що розглядаються як особливості\n",
    "maxlen = 500  # обмеження кількості слів в тексті\n",
    "batch_size = 256\n",
    "embedding_dim = 32\n",
    "units = 32"
   ]
  },
  {
   "cell_type": "markdown",
   "id": "5a53ce82-56fc-49dc-8bd5-8f929e2b73df",
   "metadata": {},
   "source": [
    "### Завантаження даних:"
   ]
  },
  {
   "cell_type": "code",
   "execution_count": 3,
   "id": "52119c45-729b-4ce0-bc7e-70d1740ad674",
   "metadata": {
    "tags": []
   },
   "outputs": [],
   "source": [
    "(input_train, y_train), (input_test, y_test) = imdb.load_data(num_words=max_features)"
   ]
  },
  {
   "cell_type": "markdown",
   "id": "504d372c-20bf-45ae-8df8-22076eb681e4",
   "metadata": {},
   "source": [
    "### Передпроцесинг послідовних даних:"
   ]
  },
  {
   "cell_type": "code",
   "execution_count": 4,
   "id": "2638e5e1-b5fa-4899-a8c6-dc4939b07ebe",
   "metadata": {
    "tags": []
   },
   "outputs": [],
   "source": [
    "input_train = pad_sequences(input_train, maxlen=maxlen)\n",
    "input_test = pad_sequences(input_test, maxlen=maxlen)"
   ]
  },
  {
   "cell_type": "markdown",
   "id": "872a8e6e-3537-4c9c-98de-30ff65e55043",
   "metadata": {},
   "source": [
    "### Побудова моделі"
   ]
  },
  {
   "cell_type": "code",
   "execution_count": 8,
   "id": "f239e8d4-dd33-4d34-a23f-c8ff262def07",
   "metadata": {
    "tags": []
   },
   "outputs": [],
   "source": [
    "model = Sequential()\n",
    "model.add(Embedding(input_dim=max_features, output_dim=embedding_dim))\n",
    "model.add(SpatialDropout1D(0.2))\n",
    "model.add(SimpleRNN(units=units, dropout=0.2))\n",
    "model.add(Dense(1, activation='sigmoid'))\n"
   ]
  },
  {
   "cell_type": "markdown",
   "id": "82a63882-53fd-4546-ba97-da5fe31c8d92",
   "metadata": {
    "tags": []
   },
   "source": [
    "### Компіляція моделі"
   ]
  },
  {
   "cell_type": "code",
   "execution_count": 9,
   "id": "c40a4040-6192-4478-a709-a05b0cd90a7c",
   "metadata": {
    "tags": []
   },
   "outputs": [],
   "source": [
    "model.compile(optimizer='rmsprop', loss='binary_crossentropy', metrics=['acc'])\n"
   ]
  },
  {
   "cell_type": "markdown",
   "id": "75ed3b53-2533-4ded-9781-42b4de4e59fa",
   "metadata": {
    "tags": []
   },
   "source": [
    "### Навчання моделі"
   ]
  },
  {
   "cell_type": "code",
   "execution_count": 10,
   "id": "b165a117-7b93-4f24-a616-d892275328a3",
   "metadata": {
    "tags": []
   },
   "outputs": [
    {
     "name": "stdout",
     "output_type": "stream",
     "text": [
      "Epoch 1/10\n",
      "\u001b[1m69/69\u001b[0m \u001b[32m━━━━━━━━━━━━━━━━━━━━\u001b[0m\u001b[37m\u001b[0m \u001b[1m8s\u001b[0m 104ms/step - acc: 0.5335 - loss: 0.6903 - val_acc: 0.6136 - val_loss: 0.6570\n",
      "Epoch 2/10\n",
      "\u001b[1m69/69\u001b[0m \u001b[32m━━━━━━━━━━━━━━━━━━━━\u001b[0m\u001b[37m\u001b[0m \u001b[1m8s\u001b[0m 120ms/step - acc: 0.7053 - loss: 0.5876 - val_acc: 0.7783 - val_loss: 0.4887\n",
      "Epoch 3/10\n",
      "\u001b[1m69/69\u001b[0m \u001b[32m━━━━━━━━━━━━━━━━━━━━\u001b[0m\u001b[37m\u001b[0m \u001b[1m7s\u001b[0m 102ms/step - acc: 0.8036 - loss: 0.4440 - val_acc: 0.8213 - val_loss: 0.4133\n",
      "Epoch 4/10\n",
      "\u001b[1m69/69\u001b[0m \u001b[32m━━━━━━━━━━━━━━━━━━━━\u001b[0m\u001b[37m\u001b[0m \u001b[1m8s\u001b[0m 115ms/step - acc: 0.8395 - loss: 0.3777 - val_acc: 0.7889 - val_loss: 0.4531\n",
      "Epoch 5/10\n",
      "\u001b[1m69/69\u001b[0m \u001b[32m━━━━━━━━━━━━━━━━━━━━\u001b[0m\u001b[37m\u001b[0m \u001b[1m7s\u001b[0m 100ms/step - acc: 0.8639 - loss: 0.3335 - val_acc: 0.8551 - val_loss: 0.3509\n",
      "Epoch 6/10\n",
      "\u001b[1m69/69\u001b[0m \u001b[32m━━━━━━━━━━━━━━━━━━━━\u001b[0m\u001b[37m\u001b[0m \u001b[1m6s\u001b[0m 94ms/step - acc: 0.8869 - loss: 0.2826 - val_acc: 0.8132 - val_loss: 0.4708\n",
      "Epoch 7/10\n",
      "\u001b[1m69/69\u001b[0m \u001b[32m━━━━━━━━━━━━━━━━━━━━\u001b[0m\u001b[37m\u001b[0m \u001b[1m7s\u001b[0m 97ms/step - acc: 0.9028 - loss: 0.2537 - val_acc: 0.8349 - val_loss: 0.4495\n",
      "Epoch 8/10\n",
      "\u001b[1m69/69\u001b[0m \u001b[32m━━━━━━━━━━━━━━━━━━━━\u001b[0m\u001b[37m\u001b[0m \u001b[1m7s\u001b[0m 100ms/step - acc: 0.9042 - loss: 0.2388 - val_acc: 0.7913 - val_loss: 0.4722\n",
      "Epoch 9/10\n",
      "\u001b[1m69/69\u001b[0m \u001b[32m━━━━━━━━━━━━━━━━━━━━\u001b[0m\u001b[37m\u001b[0m \u001b[1m7s\u001b[0m 98ms/step - acc: 0.9273 - loss: 0.1972 - val_acc: 0.8547 - val_loss: 0.4220\n",
      "Epoch 10/10\n",
      "\u001b[1m69/69\u001b[0m \u001b[32m━━━━━━━━━━━━━━━━━━━━\u001b[0m\u001b[37m\u001b[0m \u001b[1m6s\u001b[0m 93ms/step - acc: 0.9388 - loss: 0.1607 - val_acc: 0.8565 - val_loss: 0.3869\n"
     ]
    }
   ],
   "source": [
    "history = model.fit(input_train, y_train, epochs=10, batch_size=batch_size, validation_split=0.3)"
   ]
  },
  {
   "cell_type": "markdown",
   "id": "067c0b27-f142-4e15-8bcc-0ab5259f7d2e",
   "metadata": {},
   "source": [
    "### Візуалізація результатів"
   ]
  },
  {
   "cell_type": "code",
   "execution_count": 11,
   "id": "6357845d-d1e4-44e8-839a-3be1532e8b00",
   "metadata": {
    "tags": []
   },
   "outputs": [],
   "source": [
    "def visualisation(history):\n",
    "    acc = history.history['acc']\n",
    "    val_acc = history.history['val_acc']\n",
    "    loss = history.history['loss']\n",
    "    val_loss = history.history['val_loss']\n",
    "\n",
    "    epochs = range(1, len(acc) + 1)\n",
    "\n",
    "    plt.plot(epochs, acc, 'bo', label='Точність на тренуванні')  \n",
    "    plt.plot(epochs, val_acc, 'b', label='Точність на валідації')  \n",
    "    plt.title('Точність тренування і валідації')  \n",
    "    plt.legend()  \n",
    "\n",
    "    plt.figure()\n",
    "\n",
    "    plt.plot(epochs, loss, 'bo', label='Втрати на тренуванні')  \n",
    "    plt.plot(epochs, val_loss, 'b', label='Втрати на валідації')  \n",
    "    plt.title('Втрати тренування і валідації')  \n",
    "    plt.legend()  \n",
    "\n",
    "    plt.show()  \n"
   ]
  },
  {
   "cell_type": "code",
   "execution_count": 12,
   "id": "e77d0e3b-d401-4e85-95bf-7e75aae00de3",
   "metadata": {
    "tags": []
   },
   "outputs": [
    {
     "data": {
      "image/png": "[encoded data removed]",
      "text/plain": [
       "<Figure size 640x480 with 1 Axes>"
      ]
     },
     "metadata": {},
     "output_type": "display_data"
    },
    {
     "data": {
      "image/png": "[encoded data removed]",
      "text/plain": [
       "<Figure size 640x480 with 1 Axes>"
      ]
     },
     "metadata": {},
     "output_type": "display_data"
    }
   ],
   "source": [
    "visualisation(history)"
   ]
  },
  {
   "cell_type": "markdown",
   "id": "29e19dfe-84d2-4216-b6c7-bcfc82b5367b",
   "metadata": {},
   "source": [
    "### Використання моделі"
   ]
  },
  {
   "cell_type": "code",
   "execution_count": 13,
   "id": "e629071a-c1fe-45e0-8ec1-a8e86a2b1e75",
   "metadata": {
    "tags": []
   },
   "outputs": [],
   "source": [
    "def prediction(model):\n",
    "    predictions = model.predict(input_test)\n",
    "\n",
    "    binary_predictions = [1 if pred > 0.5 else 0 for pred in predictions]\n",
    "\n",
    "    for i in range(10):\n",
    "        print(f\"Прогнозоване: {binary_predictions[i]}, Фактичне: {y_test[i]}\")\n",
    "\n",
    "    test_loss, test_acc = model.evaluate(input_test, y_test)\n",
    "    print('Test Loss: {}'.format(test_loss))\n",
    "    print('Test Accuracy: {}'.format(test_acc))\n"
   ]
  },
  {
   "cell_type": "code",
   "execution_count": 14,
   "id": "84a04fbd-6032-41d9-94d8-1babbe707542",
   "metadata": {
    "tags": []
   },
   "outputs": [
    {
     "name": "stdout",
     "output_type": "stream",
     "text": [
      "\u001b[1m782/782\u001b[0m \u001b[32m━━━━━━━━━━━━━━━━━━━━\u001b[0m\u001b[37m\u001b[0m \u001b[1m6s\u001b[0m 8ms/step\n",
      "Прогнозоване: 0, Фактичне: 0\n",
      "Прогнозоване: 1, Фактичне: 1\n",
      "Прогнозоване: 0, Фактичне: 1\n",
      "Прогнозоване: 0, Фактичне: 0\n",
      "Прогнозоване: 1, Фактичне: 1\n",
      "Прогнозоване: 1, Фактичне: 1\n",
      "Прогнозоване: 1, Фактичне: 1\n",
      "Прогнозоване: 0, Фактичне: 0\n",
      "Прогнозоване: 1, Фактичне: 0\n",
      "Прогнозоване: 1, Фактичне: 1\n",
      "\u001b[1m782/782\u001b[0m \u001b[32m━━━━━━━━━━━━━━━━━━━━\u001b[0m\u001b[37m\u001b[0m \u001b[1m7s\u001b[0m 9ms/step - acc: 0.8492 - loss: 0.3991\n",
      "Test Loss: 0.4004215598106384\n",
      "Test Accuracy: 0.8490800261497498\n"
     ]
    }
   ],
   "source": [
    "prediction(model)"
   ]
  },
  {
   "cell_type": "markdown",
   "id": "395ad197-56ae-4039-9e8e-5097ed693723",
   "metadata": {},
   "source": [
    "# Частина №2. Побудова моделі LSTM"
   ]
  },
  {
   "cell_type": "code",
   "execution_count": 15,
   "id": "501e1223-f551-4c0e-b6d4-7a8fc09faf80",
   "metadata": {
    "tags": []
   },
   "outputs": [],
   "source": [
    "from keras.layers import LSTM"
   ]
  },
  {
   "cell_type": "code",
   "execution_count": 16,
   "id": "5269deb6-ebd4-42e2-8841-ed2c0d54265a",
   "metadata": {
    "tags": []
   },
   "outputs": [],
   "source": [
    "model2 = Sequential()\n",
    "\n",
    "model2.add(Embedding(input_dim=max_features, output_dim=embedding_dim, input_length=maxlen))\n",
    "model2.add(SpatialDropout1D(0.2))\n",
    "model2.add(LSTM(units=units, dropout=0.2, recurrent_dropout=0.2))\n",
    "model2.add(Dense(1, activation='sigmoid'))\n"
   ]
  },
  {
   "cell_type": "markdown",
   "id": "79fe14f7-5fe6-4d85-8711-77e636af47c7",
   "metadata": {},
   "source": [
    "### Компіляція і тренування моделі"
   ]
  },
  {
   "cell_type": "code",
   "execution_count": 17,
   "id": "c5f61dd0-d21e-4804-ab89-b3c8ba145847",
   "metadata": {
    "tags": []
   },
   "outputs": [
    {
     "data": {
      "text/html": [
       "<pre style=\"white-space:pre;overflow-x:auto;line-height:normal;font-family:Menlo,'DejaVu Sans Mono',consolas,'Courier New',monospace\"><span style=\"font-weight: bold\">Model: \"sequential_2\"</span>\n",
       "</pre>\n"
      ],
      "text/plain": [
       "\u001b[1mModel: \"sequential_2\"\u001b[0m\n"
      ]
     },
     "metadata": {},
     "output_type": "display_data"
    },
    {
     "data": {
      "text/html": [
       "<pre style=\"white-space:pre;overflow-x:auto;line-height:normal;font-family:Menlo,'DejaVu Sans Mono',consolas,'Courier New',monospace\">┏━━━━━━━━━━━━━━━━━━━━━━━━━━━━━━━━━┳━━━━━━━━━━━━━━━━━━━━━━━━┳━━━━━━━━━━━━━━━┓\n",
       "┃<span style=\"font-weight: bold\"> Layer (type)                    </span>┃<span style=\"font-weight: bold\"> Output Shape           </span>┃<span style=\"font-weight: bold\">       Param # </span>┃\n",
       "┡━━━━━━━━━━━━━━━━━━━━━━━━━━━━━━━━━╇━━━━━━━━━━━━━━━━━━━━━━━━╇━━━━━━━━━━━━━━━┩\n",
       "│ embedding_2 (<span style=\"color: #0087ff; text-decoration-color: #0087ff\">Embedding</span>)         │ ?                      │   <span style=\"color: #00af00; text-decoration-color: #00af00\">0</span> (unbuilt) │\n",
       "├─────────────────────────────────┼────────────────────────┼───────────────┤\n",
       "│ spatial_dropout1d_2             │ ?                      │             <span style=\"color: #00af00; text-decoration-color: #00af00\">0</span> │\n",
       "│ (<span style=\"color: #0087ff; text-decoration-color: #0087ff\">SpatialDropout1D</span>)              │                        │               │\n",
       "├─────────────────────────────────┼────────────────────────┼───────────────┤\n",
       "│ lstm (<span style=\"color: #0087ff; text-decoration-color: #0087ff\">LSTM</span>)                     │ ?                      │   <span style=\"color: #00af00; text-decoration-color: #00af00\">0</span> (unbuilt) │\n",
       "├─────────────────────────────────┼────────────────────────┼───────────────┤\n",
       "│ dense_2 (<span style=\"color: #0087ff; text-decoration-color: #0087ff\">Dense</span>)                 │ ?                      │   <span style=\"color: #00af00; text-decoration-color: #00af00\">0</span> (unbuilt) │\n",
       "└─────────────────────────────────┴────────────────────────┴───────────────┘\n",
       "</pre>\n"
      ],
      "text/plain": [
       "┏━━━━━━━━━━━━━━━━━━━━━━━━━━━━━━━━━┳━━━━━━━━━━━━━━━━━━━━━━━━┳━━━━━━━━━━━━━━━┓\n",
       "┃\u001b[1m \u001b[0m\u001b[1mLayer (type)                   \u001b[0m\u001b[1m \u001b[0m┃\u001b[1m \u001b[0m\u001b[1mOutput Shape          \u001b[0m\u001b[1m \u001b[0m┃\u001b[1m \u001b[0m\u001b[1m      Param #\u001b[0m\u001b[1m \u001b[0m┃\n",
       "┡━━━━━━━━━━━━━━━━━━━━━━━━━━━━━━━━━╇━━━━━━━━━━━━━━━━━━━━━━━━╇━━━━━━━━━━━━━━━┩\n",
       "│ embedding_2 (\u001b[38;5;33mEmbedding\u001b[0m)         │ ?                      │   \u001b[38;5;34m0\u001b[0m (unbuilt) │\n",
       "├─────────────────────────────────┼────────────────────────┼───────────────┤\n",
       "│ spatial_dropout1d_2             │ ?                      │             \u001b[38;5;34m0\u001b[0m │\n",
       "│ (\u001b[38;5;33mSpatialDropout1D\u001b[0m)              │                        │               │\n",
       "├─────────────────────────────────┼────────────────────────┼───────────────┤\n",
       "│ lstm (\u001b[38;5;33mLSTM\u001b[0m)                     │ ?                      │   \u001b[38;5;34m0\u001b[0m (unbuilt) │\n",
       "├─────────────────────────────────┼────────────────────────┼───────────────┤\n",
       "│ dense_2 (\u001b[38;5;33mDense\u001b[0m)                 │ ?                      │   \u001b[38;5;34m0\u001b[0m (unbuilt) │\n",
       "└─────────────────────────────────┴────────────────────────┴───────────────┘\n"
      ]
     },
     "metadata": {},
     "output_type": "display_data"
    },
    {
     "data": {
      "text/html": [
       "<pre style=\"white-space:pre;overflow-x:auto;line-height:normal;font-family:Menlo,'DejaVu Sans Mono',consolas,'Courier New',monospace\"><span style=\"font-weight: bold\"> Total params: </span><span style=\"color: #00af00; text-decoration-color: #00af00\">0</span> (0.00 B)\n",
       "</pre>\n"
      ],
      "text/plain": [
       "\u001b[1m Total params: \u001b[0m\u001b[38;5;34m0\u001b[0m (0.00 B)\n"
      ]
     },
     "metadata": {},
     "output_type": "display_data"
    },
    {
     "data": {
      "text/html": [
       "<pre style=\"white-space:pre;overflow-x:auto;line-height:normal;font-family:Menlo,'DejaVu Sans Mono',consolas,'Courier New',monospace\"><span style=\"font-weight: bold\"> Trainable params: </span><span style=\"color: #00af00; text-decoration-color: #00af00\">0</span> (0.00 B)\n",
       "</pre>\n"
      ],
      "text/plain": [
       "\u001b[1m Trainable params: \u001b[0m\u001b[38;5;34m0\u001b[0m (0.00 B)\n"
      ]
     },
     "metadata": {},
     "output_type": "display_data"
    },
    {
     "data": {
      "text/html": [
       "<pre style=\"white-space:pre;overflow-x:auto;line-height:normal;font-family:Menlo,'DejaVu Sans Mono',consolas,'Courier New',monospace\"><span style=\"font-weight: bold\"> Non-trainable params: </span><span style=\"color: #00af00; text-decoration-color: #00af00\">0</span> (0.00 B)\n",
       "</pre>\n"
      ],
      "text/plain": [
       "\u001b[1m Non-trainable params: \u001b[0m\u001b[38;5;34m0\u001b[0m (0.00 B)\n"
      ]
     },
     "metadata": {},
     "output_type": "display_data"
    }
   ],
   "source": [
    "model2.compile(optimizer='rmsprop', loss='binary_crossentropy', metrics=['acc'])\n",
    "\n",
    "model2.summary()"
   ]
  },
  {
   "cell_type": "code",
   "execution_count": 18,
   "id": "1e807e99",
   "metadata": {},
   "outputs": [
    {
     "name": "stdout",
     "output_type": "stream",
     "text": [
      "TensorFlow version: 2.16.1\n",
      "Keras version: 3.2.1\n"
     ]
    }
   ],
   "source": [
    "import tensorflow as tf\n",
    "import keras\n",
    "print(\"TensorFlow version:\", tf.__version__)\n",
    "print(\"Keras version:\", keras.__version__)\n"
   ]
  },
  {
   "cell_type": "code",
   "execution_count": null,
   "id": "49be04b6-5830-4359-b978-23bfb53a6b30",
   "metadata": {
    "tags": []
   },
   "outputs": [],
   "source": [
    "history2 = model2.fit(input_train, y_train, epochs=10, batch_size=batch_size, validation_split=0.3)\n",
    "\n",
    "visualisation(history2)"
   ]
  },
  {
   "cell_type": "markdown",
   "id": "7b01dd36-9450-4c45-9570-7c79bd8cc90f",
   "metadata": {},
   "source": [
    "### Прогнозування з використанням навченої моделі"
   ]
  },
  {
   "cell_type": "code",
   "execution_count": null,
   "id": "1fd31813-ab59-47ea-8afa-d2f20066a712",
   "metadata": {
    "tags": []
   },
   "outputs": [],
   "source": [
    "prediction(model2)"
   ]
  },
  {
   "cell_type": "markdown",
   "id": "a1dbc903-5d61-406d-9ba4-bb4e11e6a9e5",
   "metadata": {},
   "source": [
    "# Частина №3. Побудова моделі BRNN"
   ]
  },
  {
   "cell_type": "code",
   "execution_count": null,
   "id": "f23e6933-bdfa-4715-82a4-d97454aa2c3d",
   "metadata": {
    "tags": []
   },
   "outputs": [],
   "source": [
    "from keras.layers import Bidirectional"
   ]
  },
  {
   "cell_type": "code",
   "execution_count": null,
   "id": "cbc7efd9-dd8f-4fb0-8732-27d74037ef7c",
   "metadata": {
    "tags": []
   },
   "outputs": [],
   "source": [
    "model3 = Sequential()\n",
    "\n",
    "model3.add(Embedding(input_dim=max_features, output_dim=embedding_dim, input_length=maxlen))\n",
    "model3.add(SpatialDropout1D(0.2))\n",
    "model3.add(Bidirectional(LSTM(32, dropout=0.2)))\n",
    "model3.add(Dense(1, activation='sigmoid'))\n"
   ]
  },
  {
   "cell_type": "markdown",
   "id": "923d9ab7-24a5-48de-bbb5-3a5e8079c14f",
   "metadata": {},
   "source": [
    "### Компіляція і тренування моделі"
   ]
  },
  {
   "cell_type": "code",
   "execution_count": null,
   "id": "37057d34-2a50-4731-89e8-4350c68f66a7",
   "metadata": {
    "tags": []
   },
   "outputs": [],
   "source": [
    "model3.compile(optimizer='rmsprop', loss='binary_crossentropy', metrics=['acc'])\n",
    "\n",
    "model3.summary()"
   ]
  },
  {
   "cell_type": "code",
   "execution_count": null,
   "id": "a9f4b8a5-f3c9-4a3c-b27e-62449f7dc9e1",
   "metadata": {
    "tags": []
   },
   "outputs": [],
   "source": [
    "history3 = model3.fit(input_train, y_train, epochs=10, batch_size=batch_size, validation_split=0.3)\n",
    "\n",
    "visualisation(history3)"
   ]
  },
  {
   "cell_type": "markdown",
   "id": "6a7678dc-8c90-4a6b-b187-72a4f54ef5b7",
   "metadata": {},
   "source": [
    "### Прогнозування з використанням навченої моделі"
   ]
  },
  {
   "cell_type": "code",
   "execution_count": null,
   "id": "09a78dcf-9981-49aa-b45a-441d6738439a",
   "metadata": {
    "tags": []
   },
   "outputs": [],
   "source": [
    "prediction(model3)"
   ]
  },
  {
   "cell_type": "markdown",
   "id": "4f3c6eef-8edd-42e2-a8b8-d2e90116409f",
   "metadata": {},
   "source": [
    "# Частина №4. Побудова моделі DRNN"
   ]
  },
  {
   "cell_type": "code",
   "execution_count": null,
   "id": "26a98083-6d8e-46a1-b13d-2a35fc3230b1",
   "metadata": {
    "tags": []
   },
   "outputs": [],
   "source": [
    "model4 = Sequential()\n",
    "\n",
    "model4.add(Embedding(input_dim=max_features, output_dim=embedding_dim, input_length=maxlen))\n",
    "model4.add(SpatialDropout1D(0.2))\n",
    "\n",
    "model4.add(Bidirectional(LSTM(32, dropout=0.2, return_sequences=True)))\n",
    "model4.add(Bidirectional(LSTM(32, dropout=0.2)))\n",
    "\n",
    "model4.add(Dense(1, activation='sigmoid'))\n"
   ]
  },
  {
   "cell_type": "markdown",
   "id": "8daf1070-9bfb-47d4-a308-a4aed617520c",
   "metadata": {},
   "source": [
    "### Компіляція і тренування моделі"
   ]
  },
  {
   "cell_type": "code",
   "execution_count": null,
   "id": "a287c667-bf35-4c4e-ae73-6097da5818e4",
   "metadata": {
    "tags": []
   },
   "outputs": [],
   "source": [
    "model4.compile(optimizer='rmsprop', loss='binary_crossentropy', metrics=['acc'])\n",
    "\n",
    "model4.summary()"
   ]
  },
  {
   "cell_type": "code",
   "execution_count": null,
   "id": "7f26adec-b241-48dd-b2ac-18dcba9157e1",
   "metadata": {
    "tags": []
   },
   "outputs": [],
   "source": [
    "history4 = model4.fit(input_train, y_train, epochs=10, batch_size=batch_size, validation_split=0.3)\n",
    "\n",
    "visualisation(history4)"
   ]
  },
  {
   "cell_type": "markdown",
   "id": "6574a19f-f1c9-4eb9-8d7a-ed3e87899959",
   "metadata": {},
   "source": [
    "### Прогнозування з використанням навченої моделі"
   ]
  },
  {
   "cell_type": "code",
   "execution_count": null,
   "id": "46577fa4-8e04-4f0d-870c-4d77c7ef60e3",
   "metadata": {
    "tags": []
   },
   "outputs": [],
   "source": [
    "prediction(model4)"
   ]
  },
  {
   "cell_type": "code",
   "execution_count": null,
   "id": "463c200f-ff35-401b-9a30-82c4d71b1230",
   "metadata": {
    "tags": []
   },
   "outputs": [],
   "source": [
    "epochs = range(1, len(history.history['acc']) + 1)\n",
    "epochs2 = range(1, len(history2.history['acc']) + 1)\n",
    "epochs3 = range(1, len(history3.history['acc']) + 1)\n",
    "epochs4 = range(1, len(history4.history['acc']) + 1)\n",
    "\n",
    "# Створення сітки графіків 2x2\n",
    "plt.figure(figsize=(12, 8))\n",
    "\n",
    "# Графік 1: Точність на тренувальних данних\n",
    "plt.subplot(2, 2, 1)\n",
    "plt.plot(epochs, history.history['acc'], label='Model RNN')\n",
    "plt.plot(epochs2, history2.history['acc'], label='Model LSTM')\n",
    "plt.plot(epochs3, history3.history['acc'], label='Model BRNN')\n",
    "plt.plot(epochs4, history4.history['acc'], label='Model DRNN')\n",
    "\n",
    "plt.title('Training Accuracy')\n",
    "plt.xlabel('Epoch')\n",
    "plt.ylabel('Accuracy')\n",
    "plt.legend()\n",
    "\n",
    "# Графік 2: Точність на валідаційних данних\n",
    "plt.subplot(2, 2, 2)\n",
    "plt.plot(epochs, history.history['val_acc'], label='Model RNN')\n",
    "plt.plot(epochs2, history2.history['val_acc'], label='Model LSTM')\n",
    "plt.plot(epochs3, history3.history['val_acc'], label='Model BRNN')\n",
    "plt.plot(epochs4, history4.history['val_acc'], label='Model DRNN')\n",
    "\n",
    "plt.title('Validation Accuracy')\n",
    "plt.xlabel('Epoch')\n",
    "plt.ylabel('Accuracy')\n",
    "plt.legend()\n",
    "\n",
    "# Графік 3: Втрати на тренувальних данних\n",
    "plt.subplot(2, 2, 3)\n",
    "plt.plot(epochs, history.history['loss'], label='Model RNN')\n",
    "plt.plot(epochs2, history2.history['loss'], label='Model LSTM')\n",
    "plt.plot(epochs3, history3.history['loss'], label='Model BRNN')\n",
    "plt.plot(epochs4, history4.history['loss'], label='Model DRNN')\n",
    "\n",
    "plt.title('Training Loss')\n",
    "plt.xlabel('Epoch')\n",
    "plt.ylabel('Loss')\n",
    "plt.legend()\n",
    "\n",
    "# Графік 4: Втрати на валідаційних данних\n",
    "plt.subplot(2, 2, 4)\n",
    "plt.plot(epochs, history.history['val_loss'], label='Model RNN')\n",
    "plt.plot(epochs2, history2.history['val_loss'], label='Model LSTM')\n",
    "plt.plot(epochs3, history3.history['val_loss'], label='Model BRNN')\n",
    "plt.plot(epochs4, history4.history['val_loss'], label='Model DRNN')\n",
    "\n",
    "plt.title('Validation Loss')\n",
    "plt.xlabel('Epoch')\n",
    "plt.ylabel('Loss')\n",
    "plt.legend()\n",
    "\n",
    "plt.tight_layout()\n",
    "plt.show()\n"
   ]
  },
  {
   "cell_type": "code",
   "execution_count": null,
   "id": "5e02c072-cfa0-4714-9eb0-4b5c01dd86f1",
   "metadata": {},
   "outputs": [],
   "source": []
  }
 ],
 "metadata": {
  "kernelspec": {
   "display_name": "Python 3 (ipykernel)",
   "language": "python",
   "name": "python3"
  },
  "language_info": {
   "codemirror_mode": {
    "name": "ipython",
    "version": 3
   },
   "file_extension": ".py",
   "mimetype": "text/x-python",
   "name": "python",
   "nbconvert_exporter": "python",
   "pygments_lexer": "ipython3",
   "version": "3.11.5"
  }
 },
 "nbformat": 4,
 "nbformat_minor": 5
}
