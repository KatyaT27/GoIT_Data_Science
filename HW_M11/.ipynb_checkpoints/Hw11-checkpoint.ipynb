{
 "cells": [
  {
   "cell_type": "markdown",
   "id": "18444de2-ac1f-4935-8e0c-6379630d24ca",
   "metadata": {},
   "source": [
    "# Домашнє завдання №11\n",
    "\n",
    "# Частина №1. Рекурентна нейронна мережа RNN"
   ]
  },
  {
   "cell_type": "code",
   "execution_count": 1,
   "id": "9f2e959b-08a8-4754-95b2-6c27bb6e1504",
   "metadata": {
    "tags": []
   },
   "outputs": [],
   "source": [
    "import matplotlib.pyplot as plt\n",
    "from keras.datasets import imdb\n",
    "from keras.utils import pad_sequences\n",
    "from keras.models import Sequential\n",
    "from keras.layers import Embedding, SimpleRNN, Dense, SpatialDropout1D      "
   ]
  },
  {
   "cell_type": "markdown",
   "id": "15b21841-3db1-4a9a-b58a-58c43076c562",
   "metadata": {},
   "source": [
    "### Встановлення гіперпараметрів:"
   ]
  },
  {
   "cell_type": "code",
   "execution_count": 2,
   "id": "0f63d3aa-5dca-483a-8d4e-dc7f827dc4e3",
   "metadata": {
    "tags": []
   },
   "outputs": [],
   "source": [
    "max_features = 10000  # кількість слів, що розглядаються як особливості\n",
    "maxlen = 500  # обмеження кількості слів в тексті\n",
    "batch_size = 256\n",
    "embedding_dim = 32\n",
    "units = 32"
   ]
  },
  {
   "cell_type": "markdown",
   "id": "5a53ce82-56fc-49dc-8bd5-8f929e2b73df",
   "metadata": {},
   "source": [
    "### Завантаження даних:"
   ]
  },
  {
   "cell_type": "code",
   "execution_count": 3,
   "id": "52119c45-729b-4ce0-bc7e-70d1740ad674",
   "metadata": {
    "tags": []
   },
   "outputs": [],
   "source": [
    "(input_train, y_train), (input_test, y_test) = imdb.load_data(num_words=max_features)"
   ]
  },
  {
   "cell_type": "markdown",
   "id": "504d372c-20bf-45ae-8df8-22076eb681e4",
   "metadata": {},
   "source": [
    "### Передпроцесинг послідовних даних:"
   ]
  },
  {
   "cell_type": "code",
   "execution_count": 4,
   "id": "2638e5e1-b5fa-4899-a8c6-dc4939b07ebe",
   "metadata": {
    "tags": []
   },
   "outputs": [],
   "source": [
    "input_train = pad_sequences(input_train, maxlen=maxlen)\n",
    "input_test = pad_sequences(input_test, maxlen=maxlen)"
   ]
  },
  {
   "cell_type": "markdown",
   "id": "872a8e6e-3537-4c9c-98de-30ff65e55043",
   "metadata": {},
   "source": [
    "### Побудова моделі"
   ]
  },
  {
   "cell_type": "code",
   "execution_count": 5,
   "id": "f239e8d4-dd33-4d34-a23f-c8ff262def07",
   "metadata": {
    "tags": []
   },
   "outputs": [
    {
     "name": "stderr",
     "output_type": "stream",
     "text": [
      "/Users/katerynaturuntseva/anaconda3/lib/python3.11/site-packages/keras/src/layers/core/embedding.py:86: UserWarning: Argument `input_length` is deprecated. Just remove it.\n",
      "  warnings.warn(\n"
     ]
    }
   ],
   "source": [
    "model = Sequential()\n",
    "\n",
    "model.add(Embedding(input_dim=max_features, output_dim=embedding_dim, input_length=maxlen))\n",
    "model.add(SpatialDropout1D(0.2))\n",
    "model.add(SimpleRNN(units=units, dropout=0.2))\n",
    "model.add(Dense(1, activation='sigmoid'))\n"
   ]
  },
  {
   "cell_type": "markdown",
   "id": "82a63882-53fd-4546-ba97-da5fe31c8d92",
   "metadata": {
    "tags": []
   },
   "source": [
    "### Компіляція моделі"
   ]
  },
  {
   "cell_type": "code",
   "execution_count": 6,
   "id": "c40a4040-6192-4478-a709-a05b0cd90a7c",
   "metadata": {
    "tags": []
   },
   "outputs": [],
   "source": [
    "model.compile(optimizer='rmsprop', loss='binary_crossentropy', metrics=['acc'])\n"
   ]
  },
  {
   "cell_type": "markdown",
   "id": "75ed3b53-2533-4ded-9781-42b4de4e59fa",
   "metadata": {
    "tags": []
   },
   "source": [
    "### Навчання моделі"
   ]
  },
  {
   "cell_type": "code",
   "execution_count": 7,
   "id": "b165a117-7b93-4f24-a616-d892275328a3",
   "metadata": {
    "tags": []
   },
   "outputs": [
    {
     "name": "stdout",
     "output_type": "stream",
     "text": [
      "Epoch 1/10\n",
      "\u001b[1m69/69\u001b[0m \u001b[32m━━━━━━━━━━━━━━━━━━━━\u001b[0m\u001b[37m\u001b[0m \u001b[1m8s\u001b[0m 99ms/step - acc: 0.5192 - loss: 0.6943 - val_acc: 0.5993 - val_loss: 0.6731\n",
      "Epoch 2/10\n",
      "\u001b[1m69/69\u001b[0m \u001b[32m━━━━━━━━━━━━━━━━━━━━\u001b[0m\u001b[37m\u001b[0m \u001b[1m7s\u001b[0m 97ms/step - acc: 0.6763 - loss: 0.6236 - val_acc: 0.7325 - val_loss: 0.5447\n",
      "Epoch 3/10\n",
      "\u001b[1m69/69\u001b[0m \u001b[32m━━━━━━━━━━━━━━━━━━━━\u001b[0m\u001b[37m\u001b[0m \u001b[1m7s\u001b[0m 97ms/step - acc: 0.8018 - loss: 0.4523 - val_acc: 0.6868 - val_loss: 0.5974\n",
      "Epoch 4/10\n",
      "\u001b[1m69/69\u001b[0m \u001b[32m━━━━━━━━━━━━━━━━━━━━\u001b[0m\u001b[37m\u001b[0m \u001b[1m0s\u001b[0m 90ms/step - acc: 0.8316 - loss: 0.3793"
     ]
    },
    {
     "ename": "KeyboardInterrupt",
     "evalue": "",
     "output_type": "error",
     "traceback": [
      "\u001b[0;31m---------------------------------------------------------------------------\u001b[0m",
      "\u001b[0;31mKeyboardInterrupt\u001b[0m                         Traceback (most recent call last)",
      "Cell \u001b[0;32mIn[7], line 1\u001b[0m\n\u001b[0;32m----> 1\u001b[0m history \u001b[38;5;241m=\u001b[39m model\u001b[38;5;241m.\u001b[39mfit(input_train, y_train, epochs\u001b[38;5;241m=\u001b[39m\u001b[38;5;241m10\u001b[39m, batch_size\u001b[38;5;241m=\u001b[39mbatch_size, validation_split\u001b[38;5;241m=\u001b[39m\u001b[38;5;241m0.3\u001b[39m)\n",
      "File \u001b[0;32m~/anaconda3/lib/python3.11/site-packages/keras/src/utils/traceback_utils.py:117\u001b[0m, in \u001b[0;36mfilter_traceback.<locals>.error_handler\u001b[0;34m(*args, **kwargs)\u001b[0m\n\u001b[1;32m    115\u001b[0m filtered_tb \u001b[38;5;241m=\u001b[39m \u001b[38;5;28;01mNone\u001b[39;00m\n\u001b[1;32m    116\u001b[0m \u001b[38;5;28;01mtry\u001b[39;00m:\n\u001b[0;32m--> 117\u001b[0m     \u001b[38;5;28;01mreturn\u001b[39;00m fn(\u001b[38;5;241m*\u001b[39margs, \u001b[38;5;241m*\u001b[39m\u001b[38;5;241m*\u001b[39mkwargs)\n\u001b[1;32m    118\u001b[0m \u001b[38;5;28;01mexcept\u001b[39;00m \u001b[38;5;167;01mException\u001b[39;00m \u001b[38;5;28;01mas\u001b[39;00m e:\n\u001b[1;32m    119\u001b[0m     filtered_tb \u001b[38;5;241m=\u001b[39m _process_traceback_frames(e\u001b[38;5;241m.\u001b[39m__traceback__)\n",
      "File \u001b[0;32m~/anaconda3/lib/python3.11/site-packages/keras/src/backend/tensorflow/trainer.py:355\u001b[0m, in \u001b[0;36mTensorFlowTrainer.fit\u001b[0;34m(self, x, y, batch_size, epochs, verbose, callbacks, validation_split, validation_data, shuffle, class_weight, sample_weight, initial_epoch, steps_per_epoch, validation_steps, validation_batch_size, validation_freq)\u001b[0m\n\u001b[1;32m    344\u001b[0m \u001b[38;5;28;01mif\u001b[39;00m \u001b[38;5;28mgetattr\u001b[39m(\u001b[38;5;28mself\u001b[39m, \u001b[38;5;124m\"\u001b[39m\u001b[38;5;124m_eval_epoch_iterator\u001b[39m\u001b[38;5;124m\"\u001b[39m, \u001b[38;5;28;01mNone\u001b[39;00m) \u001b[38;5;129;01mis\u001b[39;00m \u001b[38;5;28;01mNone\u001b[39;00m:\n\u001b[1;32m    345\u001b[0m     \u001b[38;5;28mself\u001b[39m\u001b[38;5;241m.\u001b[39m_eval_epoch_iterator \u001b[38;5;241m=\u001b[39m TFEpochIterator(\n\u001b[1;32m    346\u001b[0m         x\u001b[38;5;241m=\u001b[39mval_x,\n\u001b[1;32m    347\u001b[0m         y\u001b[38;5;241m=\u001b[39mval_y,\n\u001b[0;32m   (...)\u001b[0m\n\u001b[1;32m    353\u001b[0m         shuffle\u001b[38;5;241m=\u001b[39m\u001b[38;5;28;01mFalse\u001b[39;00m,\n\u001b[1;32m    354\u001b[0m     )\n\u001b[0;32m--> 355\u001b[0m val_logs \u001b[38;5;241m=\u001b[39m \u001b[38;5;28mself\u001b[39m\u001b[38;5;241m.\u001b[39mevaluate(\n\u001b[1;32m    356\u001b[0m     x\u001b[38;5;241m=\u001b[39mval_x,\n\u001b[1;32m    357\u001b[0m     y\u001b[38;5;241m=\u001b[39mval_y,\n\u001b[1;32m    358\u001b[0m     sample_weight\u001b[38;5;241m=\u001b[39mval_sample_weight,\n\u001b[1;32m    359\u001b[0m     batch_size\u001b[38;5;241m=\u001b[39mvalidation_batch_size \u001b[38;5;129;01mor\u001b[39;00m batch_size,\n\u001b[1;32m    360\u001b[0m     steps\u001b[38;5;241m=\u001b[39mvalidation_steps,\n\u001b[1;32m    361\u001b[0m     callbacks\u001b[38;5;241m=\u001b[39mcallbacks,\n\u001b[1;32m    362\u001b[0m     return_dict\u001b[38;5;241m=\u001b[39m\u001b[38;5;28;01mTrue\u001b[39;00m,\n\u001b[1;32m    363\u001b[0m     _use_cached_eval_dataset\u001b[38;5;241m=\u001b[39m\u001b[38;5;28;01mTrue\u001b[39;00m,\n\u001b[1;32m    364\u001b[0m )\n\u001b[1;32m    365\u001b[0m val_logs \u001b[38;5;241m=\u001b[39m {\n\u001b[1;32m    366\u001b[0m     \u001b[38;5;124m\"\u001b[39m\u001b[38;5;124mval_\u001b[39m\u001b[38;5;124m\"\u001b[39m \u001b[38;5;241m+\u001b[39m name: val \u001b[38;5;28;01mfor\u001b[39;00m name, val \u001b[38;5;129;01min\u001b[39;00m val_logs\u001b[38;5;241m.\u001b[39mitems()\n\u001b[1;32m    367\u001b[0m }\n\u001b[1;32m    368\u001b[0m epoch_logs\u001b[38;5;241m.\u001b[39mupdate(val_logs)\n",
      "File \u001b[0;32m~/anaconda3/lib/python3.11/site-packages/keras/src/utils/traceback_utils.py:117\u001b[0m, in \u001b[0;36mfilter_traceback.<locals>.error_handler\u001b[0;34m(*args, **kwargs)\u001b[0m\n\u001b[1;32m    115\u001b[0m filtered_tb \u001b[38;5;241m=\u001b[39m \u001b[38;5;28;01mNone\u001b[39;00m\n\u001b[1;32m    116\u001b[0m \u001b[38;5;28;01mtry\u001b[39;00m:\n\u001b[0;32m--> 117\u001b[0m     \u001b[38;5;28;01mreturn\u001b[39;00m fn(\u001b[38;5;241m*\u001b[39margs, \u001b[38;5;241m*\u001b[39m\u001b[38;5;241m*\u001b[39mkwargs)\n\u001b[1;32m    118\u001b[0m \u001b[38;5;28;01mexcept\u001b[39;00m \u001b[38;5;167;01mException\u001b[39;00m \u001b[38;5;28;01mas\u001b[39;00m e:\n\u001b[1;32m    119\u001b[0m     filtered_tb \u001b[38;5;241m=\u001b[39m _process_traceback_frames(e\u001b[38;5;241m.\u001b[39m__traceback__)\n",
      "File \u001b[0;32m~/anaconda3/lib/python3.11/site-packages/keras/src/backend/tensorflow/trainer.py:441\u001b[0m, in \u001b[0;36mTensorFlowTrainer.evaluate\u001b[0;34m(self, x, y, batch_size, verbose, sample_weight, steps, callbacks, return_dict, **kwargs)\u001b[0m\n\u001b[1;32m    439\u001b[0m \u001b[38;5;28;01mfor\u001b[39;00m step, iterator \u001b[38;5;129;01min\u001b[39;00m epoch_iterator\u001b[38;5;241m.\u001b[39menumerate_epoch():\n\u001b[1;32m    440\u001b[0m     callbacks\u001b[38;5;241m.\u001b[39mon_test_batch_begin(step)\n\u001b[0;32m--> 441\u001b[0m     logs \u001b[38;5;241m=\u001b[39m \u001b[38;5;28mself\u001b[39m\u001b[38;5;241m.\u001b[39mtest_function(iterator)\n\u001b[1;32m    442\u001b[0m     callbacks\u001b[38;5;241m.\u001b[39mon_test_batch_end(step, \u001b[38;5;28mself\u001b[39m\u001b[38;5;241m.\u001b[39m_pythonify_logs(logs))\n\u001b[1;32m    443\u001b[0m     \u001b[38;5;28;01mif\u001b[39;00m \u001b[38;5;28mself\u001b[39m\u001b[38;5;241m.\u001b[39mstop_evaluating:\n",
      "File \u001b[0;32m~/anaconda3/lib/python3.11/site-packages/tensorflow/python/util/traceback_utils.py:150\u001b[0m, in \u001b[0;36mfilter_traceback.<locals>.error_handler\u001b[0;34m(*args, **kwargs)\u001b[0m\n\u001b[1;32m    148\u001b[0m filtered_tb \u001b[38;5;241m=\u001b[39m \u001b[38;5;28;01mNone\u001b[39;00m\n\u001b[1;32m    149\u001b[0m \u001b[38;5;28;01mtry\u001b[39;00m:\n\u001b[0;32m--> 150\u001b[0m   \u001b[38;5;28;01mreturn\u001b[39;00m fn(\u001b[38;5;241m*\u001b[39margs, \u001b[38;5;241m*\u001b[39m\u001b[38;5;241m*\u001b[39mkwargs)\n\u001b[1;32m    151\u001b[0m \u001b[38;5;28;01mexcept\u001b[39;00m \u001b[38;5;167;01mException\u001b[39;00m \u001b[38;5;28;01mas\u001b[39;00m e:\n\u001b[1;32m    152\u001b[0m   filtered_tb \u001b[38;5;241m=\u001b[39m _process_traceback_frames(e\u001b[38;5;241m.\u001b[39m__traceback__)\n",
      "File \u001b[0;32m~/anaconda3/lib/python3.11/site-packages/tensorflow/python/eager/polymorphic_function/polymorphic_function.py:833\u001b[0m, in \u001b[0;36mFunction.__call__\u001b[0;34m(self, *args, **kwds)\u001b[0m\n\u001b[1;32m    830\u001b[0m compiler \u001b[38;5;241m=\u001b[39m \u001b[38;5;124m\"\u001b[39m\u001b[38;5;124mxla\u001b[39m\u001b[38;5;124m\"\u001b[39m \u001b[38;5;28;01mif\u001b[39;00m \u001b[38;5;28mself\u001b[39m\u001b[38;5;241m.\u001b[39m_jit_compile \u001b[38;5;28;01melse\u001b[39;00m \u001b[38;5;124m\"\u001b[39m\u001b[38;5;124mnonXla\u001b[39m\u001b[38;5;124m\"\u001b[39m\n\u001b[1;32m    832\u001b[0m \u001b[38;5;28;01mwith\u001b[39;00m OptionalXlaContext(\u001b[38;5;28mself\u001b[39m\u001b[38;5;241m.\u001b[39m_jit_compile):\n\u001b[0;32m--> 833\u001b[0m   result \u001b[38;5;241m=\u001b[39m \u001b[38;5;28mself\u001b[39m\u001b[38;5;241m.\u001b[39m_call(\u001b[38;5;241m*\u001b[39margs, \u001b[38;5;241m*\u001b[39m\u001b[38;5;241m*\u001b[39mkwds)\n\u001b[1;32m    835\u001b[0m new_tracing_count \u001b[38;5;241m=\u001b[39m \u001b[38;5;28mself\u001b[39m\u001b[38;5;241m.\u001b[39mexperimental_get_tracing_count()\n\u001b[1;32m    836\u001b[0m without_tracing \u001b[38;5;241m=\u001b[39m (tracing_count \u001b[38;5;241m==\u001b[39m new_tracing_count)\n",
      "File \u001b[0;32m~/anaconda3/lib/python3.11/site-packages/tensorflow/python/eager/polymorphic_function/polymorphic_function.py:878\u001b[0m, in \u001b[0;36mFunction._call\u001b[0;34m(self, *args, **kwds)\u001b[0m\n\u001b[1;32m    875\u001b[0m \u001b[38;5;28mself\u001b[39m\u001b[38;5;241m.\u001b[39m_lock\u001b[38;5;241m.\u001b[39mrelease()\n\u001b[1;32m    876\u001b[0m \u001b[38;5;66;03m# In this case we have not created variables on the first call. So we can\u001b[39;00m\n\u001b[1;32m    877\u001b[0m \u001b[38;5;66;03m# run the first trace but we should fail if variables are created.\u001b[39;00m\n\u001b[0;32m--> 878\u001b[0m results \u001b[38;5;241m=\u001b[39m tracing_compilation\u001b[38;5;241m.\u001b[39mcall_function(\n\u001b[1;32m    879\u001b[0m     args, kwds, \u001b[38;5;28mself\u001b[39m\u001b[38;5;241m.\u001b[39m_variable_creation_config\n\u001b[1;32m    880\u001b[0m )\n\u001b[1;32m    881\u001b[0m \u001b[38;5;28;01mif\u001b[39;00m \u001b[38;5;28mself\u001b[39m\u001b[38;5;241m.\u001b[39m_created_variables:\n\u001b[1;32m    882\u001b[0m   \u001b[38;5;28;01mraise\u001b[39;00m \u001b[38;5;167;01mValueError\u001b[39;00m(\u001b[38;5;124m\"\u001b[39m\u001b[38;5;124mCreating variables on a non-first call to a function\u001b[39m\u001b[38;5;124m\"\u001b[39m\n\u001b[1;32m    883\u001b[0m                    \u001b[38;5;124m\"\u001b[39m\u001b[38;5;124m decorated with tf.function.\u001b[39m\u001b[38;5;124m\"\u001b[39m)\n",
      "File \u001b[0;32m~/anaconda3/lib/python3.11/site-packages/tensorflow/python/eager/polymorphic_function/tracing_compilation.py:139\u001b[0m, in \u001b[0;36mcall_function\u001b[0;34m(args, kwargs, tracing_options)\u001b[0m\n\u001b[1;32m    137\u001b[0m bound_args \u001b[38;5;241m=\u001b[39m function\u001b[38;5;241m.\u001b[39mfunction_type\u001b[38;5;241m.\u001b[39mbind(\u001b[38;5;241m*\u001b[39margs, \u001b[38;5;241m*\u001b[39m\u001b[38;5;241m*\u001b[39mkwargs)\n\u001b[1;32m    138\u001b[0m flat_inputs \u001b[38;5;241m=\u001b[39m function\u001b[38;5;241m.\u001b[39mfunction_type\u001b[38;5;241m.\u001b[39munpack_inputs(bound_args)\n\u001b[0;32m--> 139\u001b[0m \u001b[38;5;28;01mreturn\u001b[39;00m function\u001b[38;5;241m.\u001b[39m_call_flat(  \u001b[38;5;66;03m# pylint: disable=protected-access\u001b[39;00m\n\u001b[1;32m    140\u001b[0m     flat_inputs, captured_inputs\u001b[38;5;241m=\u001b[39mfunction\u001b[38;5;241m.\u001b[39mcaptured_inputs\n\u001b[1;32m    141\u001b[0m )\n",
      "File \u001b[0;32m~/anaconda3/lib/python3.11/site-packages/tensorflow/python/eager/polymorphic_function/concrete_function.py:1322\u001b[0m, in \u001b[0;36mConcreteFunction._call_flat\u001b[0;34m(self, tensor_inputs, captured_inputs)\u001b[0m\n\u001b[1;32m   1318\u001b[0m possible_gradient_type \u001b[38;5;241m=\u001b[39m gradients_util\u001b[38;5;241m.\u001b[39mPossibleTapeGradientTypes(args)\n\u001b[1;32m   1319\u001b[0m \u001b[38;5;28;01mif\u001b[39;00m (possible_gradient_type \u001b[38;5;241m==\u001b[39m gradients_util\u001b[38;5;241m.\u001b[39mPOSSIBLE_GRADIENT_TYPES_NONE\n\u001b[1;32m   1320\u001b[0m     \u001b[38;5;129;01mand\u001b[39;00m executing_eagerly):\n\u001b[1;32m   1321\u001b[0m   \u001b[38;5;66;03m# No tape is watching; skip to running the function.\u001b[39;00m\n\u001b[0;32m-> 1322\u001b[0m   \u001b[38;5;28;01mreturn\u001b[39;00m \u001b[38;5;28mself\u001b[39m\u001b[38;5;241m.\u001b[39m_inference_function\u001b[38;5;241m.\u001b[39mcall_preflattened(args)\n\u001b[1;32m   1323\u001b[0m forward_backward \u001b[38;5;241m=\u001b[39m \u001b[38;5;28mself\u001b[39m\u001b[38;5;241m.\u001b[39m_select_forward_and_backward_functions(\n\u001b[1;32m   1324\u001b[0m     args,\n\u001b[1;32m   1325\u001b[0m     possible_gradient_type,\n\u001b[1;32m   1326\u001b[0m     executing_eagerly)\n\u001b[1;32m   1327\u001b[0m forward_function, args_with_tangents \u001b[38;5;241m=\u001b[39m forward_backward\u001b[38;5;241m.\u001b[39mforward()\n",
      "File \u001b[0;32m~/anaconda3/lib/python3.11/site-packages/tensorflow/python/eager/polymorphic_function/atomic_function.py:216\u001b[0m, in \u001b[0;36mAtomicFunction.call_preflattened\u001b[0;34m(self, args)\u001b[0m\n\u001b[1;32m    214\u001b[0m \u001b[38;5;28;01mdef\u001b[39;00m \u001b[38;5;21mcall_preflattened\u001b[39m(\u001b[38;5;28mself\u001b[39m, args: Sequence[core\u001b[38;5;241m.\u001b[39mTensor]) \u001b[38;5;241m-\u001b[39m\u001b[38;5;241m>\u001b[39m Any:\n\u001b[1;32m    215\u001b[0m \u001b[38;5;250m  \u001b[39m\u001b[38;5;124;03m\"\"\"Calls with flattened tensor inputs and returns the structured output.\"\"\"\u001b[39;00m\n\u001b[0;32m--> 216\u001b[0m   flat_outputs \u001b[38;5;241m=\u001b[39m \u001b[38;5;28mself\u001b[39m\u001b[38;5;241m.\u001b[39mcall_flat(\u001b[38;5;241m*\u001b[39margs)\n\u001b[1;32m    217\u001b[0m   \u001b[38;5;28;01mreturn\u001b[39;00m \u001b[38;5;28mself\u001b[39m\u001b[38;5;241m.\u001b[39mfunction_type\u001b[38;5;241m.\u001b[39mpack_output(flat_outputs)\n",
      "File \u001b[0;32m~/anaconda3/lib/python3.11/site-packages/tensorflow/python/eager/polymorphic_function/atomic_function.py:251\u001b[0m, in \u001b[0;36mAtomicFunction.call_flat\u001b[0;34m(self, *args)\u001b[0m\n\u001b[1;32m    249\u001b[0m \u001b[38;5;28;01mwith\u001b[39;00m record\u001b[38;5;241m.\u001b[39mstop_recording():\n\u001b[1;32m    250\u001b[0m   \u001b[38;5;28;01mif\u001b[39;00m \u001b[38;5;28mself\u001b[39m\u001b[38;5;241m.\u001b[39m_bound_context\u001b[38;5;241m.\u001b[39mexecuting_eagerly():\n\u001b[0;32m--> 251\u001b[0m     outputs \u001b[38;5;241m=\u001b[39m \u001b[38;5;28mself\u001b[39m\u001b[38;5;241m.\u001b[39m_bound_context\u001b[38;5;241m.\u001b[39mcall_function(\n\u001b[1;32m    252\u001b[0m         \u001b[38;5;28mself\u001b[39m\u001b[38;5;241m.\u001b[39mname,\n\u001b[1;32m    253\u001b[0m         \u001b[38;5;28mlist\u001b[39m(args),\n\u001b[1;32m    254\u001b[0m         \u001b[38;5;28mlen\u001b[39m(\u001b[38;5;28mself\u001b[39m\u001b[38;5;241m.\u001b[39mfunction_type\u001b[38;5;241m.\u001b[39mflat_outputs),\n\u001b[1;32m    255\u001b[0m     )\n\u001b[1;32m    256\u001b[0m   \u001b[38;5;28;01melse\u001b[39;00m:\n\u001b[1;32m    257\u001b[0m     outputs \u001b[38;5;241m=\u001b[39m make_call_op_in_graph(\n\u001b[1;32m    258\u001b[0m         \u001b[38;5;28mself\u001b[39m,\n\u001b[1;32m    259\u001b[0m         \u001b[38;5;28mlist\u001b[39m(args),\n\u001b[1;32m    260\u001b[0m         \u001b[38;5;28mself\u001b[39m\u001b[38;5;241m.\u001b[39m_bound_context\u001b[38;5;241m.\u001b[39mfunction_call_options\u001b[38;5;241m.\u001b[39mas_attrs(),\n\u001b[1;32m    261\u001b[0m     )\n",
      "File \u001b[0;32m~/anaconda3/lib/python3.11/site-packages/tensorflow/python/eager/context.py:1500\u001b[0m, in \u001b[0;36mContext.call_function\u001b[0;34m(self, name, tensor_inputs, num_outputs)\u001b[0m\n\u001b[1;32m   1498\u001b[0m cancellation_context \u001b[38;5;241m=\u001b[39m cancellation\u001b[38;5;241m.\u001b[39mcontext()\n\u001b[1;32m   1499\u001b[0m \u001b[38;5;28;01mif\u001b[39;00m cancellation_context \u001b[38;5;129;01mis\u001b[39;00m \u001b[38;5;28;01mNone\u001b[39;00m:\n\u001b[0;32m-> 1500\u001b[0m   outputs \u001b[38;5;241m=\u001b[39m execute\u001b[38;5;241m.\u001b[39mexecute(\n\u001b[1;32m   1501\u001b[0m       name\u001b[38;5;241m.\u001b[39mdecode(\u001b[38;5;124m\"\u001b[39m\u001b[38;5;124mutf-8\u001b[39m\u001b[38;5;124m\"\u001b[39m),\n\u001b[1;32m   1502\u001b[0m       num_outputs\u001b[38;5;241m=\u001b[39mnum_outputs,\n\u001b[1;32m   1503\u001b[0m       inputs\u001b[38;5;241m=\u001b[39mtensor_inputs,\n\u001b[1;32m   1504\u001b[0m       attrs\u001b[38;5;241m=\u001b[39mattrs,\n\u001b[1;32m   1505\u001b[0m       ctx\u001b[38;5;241m=\u001b[39m\u001b[38;5;28mself\u001b[39m,\n\u001b[1;32m   1506\u001b[0m   )\n\u001b[1;32m   1507\u001b[0m \u001b[38;5;28;01melse\u001b[39;00m:\n\u001b[1;32m   1508\u001b[0m   outputs \u001b[38;5;241m=\u001b[39m execute\u001b[38;5;241m.\u001b[39mexecute_with_cancellation(\n\u001b[1;32m   1509\u001b[0m       name\u001b[38;5;241m.\u001b[39mdecode(\u001b[38;5;124m\"\u001b[39m\u001b[38;5;124mutf-8\u001b[39m\u001b[38;5;124m\"\u001b[39m),\n\u001b[1;32m   1510\u001b[0m       num_outputs\u001b[38;5;241m=\u001b[39mnum_outputs,\n\u001b[0;32m   (...)\u001b[0m\n\u001b[1;32m   1514\u001b[0m       cancellation_manager\u001b[38;5;241m=\u001b[39mcancellation_context,\n\u001b[1;32m   1515\u001b[0m   )\n",
      "File \u001b[0;32m~/anaconda3/lib/python3.11/site-packages/tensorflow/python/eager/execute.py:53\u001b[0m, in \u001b[0;36mquick_execute\u001b[0;34m(op_name, num_outputs, inputs, attrs, ctx, name)\u001b[0m\n\u001b[1;32m     51\u001b[0m \u001b[38;5;28;01mtry\u001b[39;00m:\n\u001b[1;32m     52\u001b[0m   ctx\u001b[38;5;241m.\u001b[39mensure_initialized()\n\u001b[0;32m---> 53\u001b[0m   tensors \u001b[38;5;241m=\u001b[39m pywrap_tfe\u001b[38;5;241m.\u001b[39mTFE_Py_Execute(ctx\u001b[38;5;241m.\u001b[39m_handle, device_name, op_name,\n\u001b[1;32m     54\u001b[0m                                       inputs, attrs, num_outputs)\n\u001b[1;32m     55\u001b[0m \u001b[38;5;28;01mexcept\u001b[39;00m core\u001b[38;5;241m.\u001b[39m_NotOkStatusException \u001b[38;5;28;01mas\u001b[39;00m e:\n\u001b[1;32m     56\u001b[0m   \u001b[38;5;28;01mif\u001b[39;00m name \u001b[38;5;129;01mis\u001b[39;00m \u001b[38;5;129;01mnot\u001b[39;00m \u001b[38;5;28;01mNone\u001b[39;00m:\n",
      "\u001b[0;31mKeyboardInterrupt\u001b[0m: "
     ]
    }
   ],
   "source": [
    "history = model.fit(input_train, y_train, epochs=10, batch_size=batch_size, validation_split=0.3)"
   ]
  },
  {
   "cell_type": "markdown",
   "id": "067c0b27-f142-4e15-8bcc-0ab5259f7d2e",
   "metadata": {},
   "source": [
    "### Візуалізація результатів"
   ]
  },
  {
   "cell_type": "code",
   "execution_count": null,
   "id": "6357845d-d1e4-44e8-839a-3be1532e8b00",
   "metadata": {
    "tags": []
   },
   "outputs": [],
   "source": [
    "def visualisation(history):\n",
    "    acc = history.history['acc']\n",
    "    val_acc = history.history['val_acc']\n",
    "    loss = history.history['loss']\n",
    "    val_loss = history.history['val_loss']\n",
    "\n",
    "    epochs = range(1, len(acc) + 1)\n",
    "\n",
    "    plt.plot(epochs, acc, 'bo', label='Точність на тренуванні')  \n",
    "    plt.plot(epochs, val_acc, 'b', label='Точність на валідації')  \n",
    "    plt.title('Точність тренування і валідації')  \n",
    "    plt.legend()  \n",
    "\n",
    "    plt.figure()\n",
    "\n",
    "    plt.plot(epochs, loss, 'bo', label='Втрати на тренуванні')  \n",
    "    plt.plot(epochs, val_loss, 'b', label='Втрати на валідації')  \n",
    "    plt.title('Втрати тренування і валідації')  \n",
    "    plt.legend()  \n",
    "\n",
    "    plt.show()  \n"
   ]
  },
  {
   "cell_type": "code",
   "execution_count": null,
   "id": "e77d0e3b-d401-4e85-95bf-7e75aae00de3",
   "metadata": {
    "tags": []
   },
   "outputs": [],
   "source": [
    "visualisation(history)"
   ]
  },
  {
   "cell_type": "markdown",
   "id": "29e19dfe-84d2-4216-b6c7-bcfc82b5367b",
   "metadata": {},
   "source": [
    "### Використання моделі"
   ]
  },
  {
   "cell_type": "code",
   "execution_count": null,
   "id": "e629071a-c1fe-45e0-8ec1-a8e86a2b1e75",
   "metadata": {
    "tags": []
   },
   "outputs": [],
   "source": [
    "def prediction(model):\n",
    "    predictions = model.predict(input_test)\n",
    "\n",
    "    binary_predictions = [1 if pred > 0.5 else 0 for pred in predictions]\n",
    "\n",
    "    for i in range(10):\n",
    "        print(f\"Прогнозоване: {binary_predictions[i]}, Фактичне: {y_test[i]}\")\n",
    "\n",
    "    test_loss, test_acc = model.evaluate(input_test, y_test)\n",
    "    print('Test Loss: {}'.format(test_loss))\n",
    "    print('Test Accuracy: {}'.format(test_acc))\n"
   ]
  },
  {
   "cell_type": "code",
   "execution_count": null,
   "id": "84a04fbd-6032-41d9-94d8-1babbe707542",
   "metadata": {
    "tags": []
   },
   "outputs": [],
   "source": [
    "prediction(model)"
   ]
  },
  {
   "cell_type": "markdown",
   "id": "395ad197-56ae-4039-9e8e-5097ed693723",
   "metadata": {},
   "source": [
    "# Частина №2. Побудова моделі LSTM"
   ]
  },
  {
   "cell_type": "code",
   "execution_count": null,
   "id": "501e1223-f551-4c0e-b6d4-7a8fc09faf80",
   "metadata": {
    "tags": []
   },
   "outputs": [],
   "source": [
    "from keras.layers import LSTM"
   ]
  },
  {
   "cell_type": "code",
   "execution_count": null,
   "id": "5269deb6-ebd4-42e2-8841-ed2c0d54265a",
   "metadata": {
    "tags": []
   },
   "outputs": [],
   "source": [
    "model2 = Sequential()\n",
    "\n",
    "model2.add(Embedding(input_dim=max_features, output_dim=embedding_dim, input_length=maxlen))\n",
    "model2.add(SpatialDropout1D(0.2))\n",
    "model2.add(LSTM(units=units, dropout=0.2, recurrent_dropout=0.2))\n",
    "model2.add(Dense(1, activation='sigmoid'))\n"
   ]
  },
  {
   "cell_type": "markdown",
   "id": "79fe14f7-5fe6-4d85-8711-77e636af47c7",
   "metadata": {},
   "source": [
    "### Компіляція і тренування моделі"
   ]
  },
  {
   "cell_type": "code",
   "execution_count": null,
   "id": "c5f61dd0-d21e-4804-ab89-b3c8ba145847",
   "metadata": {
    "tags": []
   },
   "outputs": [],
   "source": [
    "model2.compile(optimizer='rmsprop', loss='binary_crossentropy', metrics=['acc'])\n",
    "\n",
    "model2.summary()"
   ]
  },
  {
   "cell_type": "code",
   "execution_count": null,
   "id": "49be04b6-5830-4359-b978-23bfb53a6b30",
   "metadata": {
    "tags": []
   },
   "outputs": [],
   "source": [
    "history2 = model2.fit(input_train, y_train, epochs=10, batch_size=batch_size, validation_split=0.3)\n",
    "\n",
    "visualisation(history2)"
   ]
  },
  {
   "cell_type": "markdown",
   "id": "7b01dd36-9450-4c45-9570-7c79bd8cc90f",
   "metadata": {},
   "source": [
    "### Прогнозування з використанням навченої моделі"
   ]
  },
  {
   "cell_type": "code",
   "execution_count": null,
   "id": "1fd31813-ab59-47ea-8afa-d2f20066a712",
   "metadata": {
    "tags": []
   },
   "outputs": [],
   "source": [
    "prediction(model2)"
   ]
  },
  {
   "cell_type": "markdown",
   "id": "a1dbc903-5d61-406d-9ba4-bb4e11e6a9e5",
   "metadata": {},
   "source": [
    "# Частина №3. Побудова моделі BRNN"
   ]
  },
  {
   "cell_type": "code",
   "execution_count": null,
   "id": "f23e6933-bdfa-4715-82a4-d97454aa2c3d",
   "metadata": {
    "tags": []
   },
   "outputs": [],
   "source": [
    "from keras.layers import Bidirectional"
   ]
  },
  {
   "cell_type": "code",
   "execution_count": null,
   "id": "cbc7efd9-dd8f-4fb0-8732-27d74037ef7c",
   "metadata": {
    "tags": []
   },
   "outputs": [],
   "source": [
    "model3 = Sequential()\n",
    "\n",
    "model3.add(Embedding(input_dim=max_features, output_dim=embedding_dim, input_length=maxlen))\n",
    "model3.add(SpatialDropout1D(0.2))\n",
    "model3.add(Bidirectional(LSTM(32, dropout=0.2)))\n",
    "model3.add(Dense(1, activation='sigmoid'))\n"
   ]
  },
  {
   "cell_type": "markdown",
   "id": "923d9ab7-24a5-48de-bbb5-3a5e8079c14f",
   "metadata": {},
   "source": [
    "### Компіляція і тренування моделі"
   ]
  },
  {
   "cell_type": "code",
   "execution_count": null,
   "id": "37057d34-2a50-4731-89e8-4350c68f66a7",
   "metadata": {
    "tags": []
   },
   "outputs": [],
   "source": [
    "model3.compile(optimizer='rmsprop', loss='binary_crossentropy', metrics=['acc'])\n",
    "\n",
    "model3.summary()"
   ]
  },
  {
   "cell_type": "code",
   "execution_count": null,
   "id": "a9f4b8a5-f3c9-4a3c-b27e-62449f7dc9e1",
   "metadata": {
    "tags": []
   },
   "outputs": [],
   "source": [
    "history3 = model3.fit(input_train, y_train, epochs=10, batch_size=batch_size, validation_split=0.3)\n",
    "\n",
    "visualisation(history3)"
   ]
  },
  {
   "cell_type": "markdown",
   "id": "6a7678dc-8c90-4a6b-b187-72a4f54ef5b7",
   "metadata": {},
   "source": [
    "### Прогнозування з використанням навченої моделі"
   ]
  },
  {
   "cell_type": "code",
   "execution_count": null,
   "id": "09a78dcf-9981-49aa-b45a-441d6738439a",
   "metadata": {
    "tags": []
   },
   "outputs": [],
   "source": [
    "prediction(model3)"
   ]
  },
  {
   "cell_type": "markdown",
   "id": "4f3c6eef-8edd-42e2-a8b8-d2e90116409f",
   "metadata": {},
   "source": [
    "# Частина №4. Побудова моделі DRNN"
   ]
  },
  {
   "cell_type": "code",
   "execution_count": null,
   "id": "26a98083-6d8e-46a1-b13d-2a35fc3230b1",
   "metadata": {
    "tags": []
   },
   "outputs": [],
   "source": [
    "model4 = Sequential()\n",
    "\n",
    "model4.add(Embedding(input_dim=max_features, output_dim=embedding_dim, input_length=maxlen))\n",
    "model4.add(SpatialDropout1D(0.2))\n",
    "\n",
    "model4.add(Bidirectional(LSTM(32, dropout=0.2, return_sequences=True)))\n",
    "model4.add(Bidirectional(LSTM(32, dropout=0.2)))\n",
    "\n",
    "model4.add(Dense(1, activation='sigmoid'))\n"
   ]
  },
  {
   "cell_type": "markdown",
   "id": "8daf1070-9bfb-47d4-a308-a4aed617520c",
   "metadata": {},
   "source": [
    "### Компіляція і тренування моделі"
   ]
  },
  {
   "cell_type": "code",
   "execution_count": null,
   "id": "a287c667-bf35-4c4e-ae73-6097da5818e4",
   "metadata": {
    "tags": []
   },
   "outputs": [],
   "source": [
    "model4.compile(optimizer='rmsprop', loss='binary_crossentropy', metrics=['acc'])\n",
    "\n",
    "model4.summary()"
   ]
  },
  {
   "cell_type": "code",
   "execution_count": null,
   "id": "7f26adec-b241-48dd-b2ac-18dcba9157e1",
   "metadata": {
    "tags": []
   },
   "outputs": [],
   "source": [
    "history4 = model4.fit(input_train, y_train, epochs=10, batch_size=batch_size, validation_split=0.3)\n",
    "\n",
    "visualisation(history4)"
   ]
  },
  {
   "cell_type": "markdown",
   "id": "6574a19f-f1c9-4eb9-8d7a-ed3e87899959",
   "metadata": {},
   "source": [
    "### Прогнозування з використанням навченої моделі"
   ]
  },
  {
   "cell_type": "code",
   "execution_count": null,
   "id": "46577fa4-8e04-4f0d-870c-4d77c7ef60e3",
   "metadata": {
    "tags": []
   },
   "outputs": [],
   "source": [
    "prediction(model4)"
   ]
  },
  {
   "cell_type": "code",
   "execution_count": null,
   "id": "463c200f-ff35-401b-9a30-82c4d71b1230",
   "metadata": {
    "tags": []
   },
   "outputs": [],
   "source": [
    "epochs = range(1, len(history.history['acc']) + 1)\n",
    "epochs2 = range(1, len(history2.history['acc']) + 1)\n",
    "epochs3 = range(1, len(history3.history['acc']) + 1)\n",
    "epochs4 = range(1, len(history4.history['acc']) + 1)\n",
    "\n",
    "# Створення сітки графіків 2x2\n",
    "plt.figure(figsize=(12, 8))\n",
    "\n",
    "# Графік 1: Точність на тренувальних данних\n",
    "plt.subplot(2, 2, 1)\n",
    "plt.plot(epochs, history.history['acc'], label='Model RNN')\n",
    "plt.plot(epochs2, history2.history['acc'], label='Model LSTM')\n",
    "plt.plot(epochs3, history3.history['acc'], label='Model BRNN')\n",
    "plt.plot(epochs4, history4.history['acc'], label='Model DRNN')\n",
    "\n",
    "plt.title('Training Accuracy')\n",
    "plt.xlabel('Epoch')\n",
    "plt.ylabel('Accuracy')\n",
    "plt.legend()\n",
    "\n",
    "# Графік 2: Точність на валідаційних данних\n",
    "plt.subplot(2, 2, 2)\n",
    "plt.plot(epochs, history.history['val_acc'], label='Model RNN')\n",
    "plt.plot(epochs2, history2.history['val_acc'], label='Model LSTM')\n",
    "plt.plot(epochs3, history3.history['val_acc'], label='Model BRNN')\n",
    "plt.plot(epochs4, history4.history['val_acc'], label='Model DRNN')\n",
    "\n",
    "plt.title('Validation Accuracy')\n",
    "plt.xlabel('Epoch')\n",
    "plt.ylabel('Accuracy')\n",
    "plt.legend()\n",
    "\n",
    "# Графік 3: Втрати на тренувальних данних\n",
    "plt.subplot(2, 2, 3)\n",
    "plt.plot(epochs, history.history['loss'], label='Model RNN')\n",
    "plt.plot(epochs2, history2.history['loss'], label='Model LSTM')\n",
    "plt.plot(epochs3, history3.history['loss'], label='Model BRNN')\n",
    "plt.plot(epochs4, history4.history['loss'], label='Model DRNN')\n",
    "\n",
    "plt.title('Training Loss')\n",
    "plt.xlabel('Epoch')\n",
    "plt.ylabel('Loss')\n",
    "plt.legend()\n",
    "\n",
    "# Графік 4: Втрати на валідаційних данних\n",
    "plt.subplot(2, 2, 4)\n",
    "plt.plot(epochs, history.history['val_loss'], label='Model RNN')\n",
    "plt.plot(epochs2, history2.history['val_loss'], label='Model LSTM')\n",
    "plt.plot(epochs3, history3.history['val_loss'], label='Model BRNN')\n",
    "plt.plot(epochs4, history4.history['val_loss'], label='Model DRNN')\n",
    "\n",
    "plt.title('Validation Loss')\n",
    "plt.xlabel('Epoch')\n",
    "plt.ylabel('Loss')\n",
    "plt.legend()\n",
    "\n",
    "plt.tight_layout()\n",
    "plt.show()\n"
   ]
  },
  {
   "cell_type": "markdown",
   "id": "e482b03e-5d48-429c-be84-a481ad55bc25",
   "metadata": {},
   "source": [
    "# Висновки:\n",
    "Ми побудували 4 моделі, показники яких на тестових даних подані у таблиці:\n",
    "\n",
    "| Модель | Точність |  Втрати  |\n",
    "|--------|----------|----------|\n",
    "|RNN     |  85.90%  |  42.63%  |\n",
    "|LSTM    |  86.18%  |  34.43%  |\n",
    "|BRNN    |  87.75%  |  33.07%  |\n",
    "|DBRR    |  87.24%  |  32.64%  |\n",
    "Кожна наступна модель на тестових даних показала кращу точність, окрім глибокої RNN. Треба зазначити, що кожна наступна модель тренувалася довше за попередні. Найдовше, відповідно, навчалася остання модель - DRNN, при цьому не давши покращення точності передбачення. Найстабільнішою на валідаційних даних виявилася модель LSTM. Для неї оптимальною була б кількість епох 9.\n"
   ]
  },
  {
   "cell_type": "code",
   "execution_count": null,
   "id": "5e02c072-cfa0-4714-9eb0-4b5c01dd86f1",
   "metadata": {},
   "outputs": [],
   "source": []
  }
 ],
 "metadata": {
  "kernelspec": {
   "display_name": "Python 3 (ipykernel)",
   "language": "python",
   "name": "python3"
  },
  "language_info": {
   "codemirror_mode": {
    "name": "ipython",
    "version": 3
   },
   "file_extension": ".py",
   "mimetype": "text/x-python",
   "name": "python",
   "nbconvert_exporter": "python",
   "pygments_lexer": "ipython3",
   "version": "3.11.5"
  }
 },
 "nbformat": 4,
 "nbformat_minor": 5
}
